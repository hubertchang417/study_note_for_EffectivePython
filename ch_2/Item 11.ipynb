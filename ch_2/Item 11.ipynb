{
 "cells": [
  {
   "cell_type": "markdown",
   "id": "8ee585ed",
   "metadata": {},
   "source": [
    "## Slicing allows you to access a subset of a sequence's items with minimal effort.\n",
    "\n",
    "* The simplest uses for slicing are the built-in types list, str, and bytes."
   ]
  },
  {
   "cell_type": "code",
   "execution_count": 7,
   "id": "16951c08",
   "metadata": {},
   "outputs": [
    {
     "name": "stdout",
     "output_type": "stream",
     "text": [
      "Middle two:   ['d', 'e']\n",
      "All but ends: ['b', 'c', 'd', 'e', 'f', 'g']\n"
     ]
    }
   ],
   "source": [
    "a = ['a', 'b', 'c', 'd', 'e', 'f', 'g', 'h']\n",
    "print('Middle two:  ', a[3:5])\n",
    "print('All but ends:', a[1:-1])"
   ]
  },
  {
   "cell_type": "markdown",
   "id": "ace2ade3",
   "metadata": {},
   "source": [
    "The result of slicing a list is a whole new list. References to the objects from the original list are maintained. Modifying the result of slicing won't affect the original list:"
   ]
  },
  {
   "cell_type": "code",
   "execution_count": 8,
   "id": "18002d47",
   "metadata": {},
   "outputs": [
    {
     "name": "stdout",
     "output_type": "stream",
     "text": [
      "Before:    ['d', 'e', 'f', 'g', 'h']\n",
      "After:     ['d', 99, 'f', 'g', 'h']\n",
      "No change: ['a', 'b', 'c', 'd', 'e', 'f', 'g', 'h']\n"
     ]
    }
   ],
   "source": [
    "b = a[3:]\n",
    "print('Before:   ',b)\n",
    "b[1] = 99\n",
    "print('After:    ',b)\n",
    "print('No change:',a)"
   ]
  },
  {
   "cell_type": "markdown",
   "id": "507a2528",
   "metadata": {},
   "source": [
    "When used in assignments, slices replace the specified range in the original list. Unlike unpacking assignments, the lengths of slice assignments don't need to be the same. The values before and after the assigned slice will preserved.  "
   ]
  },
  {
   "cell_type": "code",
   "execution_count": 9,
   "id": "128b181d",
   "metadata": {},
   "outputs": [
    {
     "name": "stdout",
     "output_type": "stream",
     "text": [
      "Before  ['a', 'b', 'c', 'd', 'e', 'f', 'g', 'h']\n",
      "After   ['a', 'b', 99, 22, 14, 'h']\n"
     ]
    }
   ],
   "source": [
    "print('Before ', a)\n",
    "a[2:7] = [99, 22, 14]\n",
    "print('After  ', a)"
   ]
  },
  {
   "cell_type": "markdown",
   "id": "dd85c022",
   "metadata": {},
   "source": [
    "And here the list grows because the assigned list is longer than the specific slice:"
   ]
  },
  {
   "cell_type": "code",
   "execution_count": 10,
   "id": "8d267ffd",
   "metadata": {},
   "outputs": [
    {
     "name": "stdout",
     "output_type": "stream",
     "text": [
      "Before  ['a', 'b', 99, 22, 14, 'h']\n",
      "After   ['a', 'b', 47, 11, 22, 14, 'h']\n"
     ]
    }
   ],
   "source": [
    "print('Before ', a)\n",
    "a[2:3]= [47, 11]\n",
    "print('After  ', a)"
   ]
  },
  {
   "cell_type": "code",
   "execution_count": 5,
   "id": "fc47c594",
   "metadata": {},
   "outputs": [
    {
     "name": "stdout",
     "output_type": "stream",
     "text": [
      "Before  ['a', 'b', 47, 11, 22, 14, 'h']\n",
      "After   ['a', 'b', [47, 11], 11, 22, 14, 'h']\n"
     ]
    }
   ],
   "source": [
    "print('Before ', a)\n",
    "a[2]= [47, 11]\n",
    "print('After  ', a)"
   ]
  },
  {
   "cell_type": "code",
   "execution_count": 6,
   "id": "719db0e3",
   "metadata": {},
   "outputs": [],
   "source": [
    "b = a[:]\n",
    "assert b == a and b is not a"
   ]
  },
  {
   "cell_type": "code",
   "execution_count": 11,
   "id": "68eb0d04",
   "metadata": {},
   "outputs": [
    {
     "name": "stdout",
     "output_type": "stream",
     "text": [
      "Before a ['a', 'b', 47, 11, 22, 14, 'h']\n",
      "Before b ['a', 'b', 47, 11, 22, 14, 'h']\n",
      "After a  [101, 102, 103]\n",
      "After b  [101, 102, 103]\n"
     ]
    }
   ],
   "source": [
    "b = a\n",
    "print('Before a', a)\n",
    "print('Before b', b)\n",
    "a[:]=[101, 102, 103]\n",
    "assert a is b        #still the same list object\n",
    "print('After a ', a) #Now has different contents\n",
    "print('After b ', b) #Same list, so smae contents as a"
   ]
  },
  {
   "cell_type": "code",
   "execution_count": null,
   "id": "7045044d",
   "metadata": {},
   "outputs": [],
   "source": []
  }
 ],
 "metadata": {
  "kernelspec": {
   "display_name": "Python 3 (ipykernel)",
   "language": "python",
   "name": "python3"
  },
  "language_info": {
   "codemirror_mode": {
    "name": "ipython",
    "version": 3
   },
   "file_extension": ".py",
   "mimetype": "text/x-python",
   "name": "python",
   "nbconvert_exporter": "python",
   "pygments_lexer": "ipython3",
   "version": "3.10.4"
  }
 },
 "nbformat": 4,
 "nbformat_minor": 5
}
