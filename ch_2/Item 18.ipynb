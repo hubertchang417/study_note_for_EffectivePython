{
 "cells": [
  {
   "cell_type": "code",
   "execution_count": 12,
   "id": "857a59c1",
   "metadata": {},
   "outputs": [],
   "source": [
    "pictures = {}\n",
    "path = 'score.png'\n",
    "\n",
    "if (handle := pictures.get(path)) is None:\n",
    "    try:\n",
    "        handle = open(path, 'a+b')\n",
    "    except OSError:\n",
    "        print(f'Failed to open path {path}')\n",
    "        raise\n",
    "    else:\n",
    "        pictures[path] = handle\n",
    "\n",
    "handle.seek(0)\n",
    "image_data = handle.read()"
   ]
  },
  {
   "cell_type": "code",
   "execution_count": 5,
   "id": "c286103e",
   "metadata": {},
   "outputs": [],
   "source": [
    "# The open built-in function to create the file handle is always called, even\n",
    "# when the path is already present in the dictionary\n",
    "try:\n",
    "    handle = pictures.setdefault(path, open(path, 'a+b'))\n",
    "except OSError:\n",
    "    print(f'Failed to open path {path}')\n",
    "    raise\n",
    "else:\n",
    "    handle.seek(0)\n",
    "    image_data = handle.read()\n"
   ]
  },
  {
   "cell_type": "code",
   "execution_count": 13,
   "id": "19c9784b",
   "metadata": {},
   "outputs": [
    {
     "ename": "TypeError",
     "evalue": "open_picture() missing 1 required positional argument: 'profile_path'",
     "output_type": "error",
     "traceback": [
      "\u001b[1;31m---------------------------------------------------------------------------\u001b[0m",
      "\u001b[1;31mTypeError\u001b[0m                                 Traceback (most recent call last)",
      "Cell \u001b[1;32mIn[13], line 11\u001b[0m\n\u001b[0;32m      8\u001b[0m         \u001b[38;5;28;01mraise\u001b[39;00m\n\u001b[0;32m     10\u001b[0m pictures \u001b[38;5;241m=\u001b[39m defaultdict(open_picture)\n\u001b[1;32m---> 11\u001b[0m handle \u001b[38;5;241m=\u001b[39m \u001b[43mpictures\u001b[49m\u001b[43m[\u001b[49m\u001b[43mpath\u001b[49m\u001b[43m]\u001b[49m\n\u001b[0;32m     12\u001b[0m handle\u001b[38;5;241m.\u001b[39mseek(\u001b[38;5;241m0\u001b[39m)\n\u001b[0;32m     13\u001b[0m image_data \u001b[38;5;241m=\u001b[39m handle\u001b[38;5;241m.\u001b[39mread()\n",
      "\u001b[1;31mTypeError\u001b[0m: open_picture() missing 1 required positional argument: 'profile_path'"
     ]
    }
   ],
   "source": [
    "from collections import defaultdict\n",
    "\n",
    "def open_picture(profile_path):\n",
    "    try:\n",
    "        return open(profile_path, 'a+b')\n",
    "    except OSError:\n",
    "        print(f'Failed to open path {profile_path}')\n",
    "        raise\n",
    "\n",
    "pictures = defaultdict(open_picture)\n",
    "handle = pictures[path]\n",
    "handle.seek(0)\n",
    "image_data = handle.read()"
   ]
  },
  {
   "cell_type": "markdown",
   "id": "79c1bbcc",
   "metadata": {},
   "source": [
    "defaultdict expects that the function passed tp its constructor doesn't require any arguments. This means that the helper function that defaultdict calls doesn't know which specific key is being accedded, which eliminates my ability to call open."
   ]
  },
  {
   "cell_type": "code",
   "execution_count": 22,
   "id": "445ac4ca",
   "metadata": {},
   "outputs": [],
   "source": [
    "#you can subclass the dict type and implement the __missing__ special method to add custom logic for handling missing keys.\n",
    "def open_picture(profile_path):\n",
    "    try:\n",
    "        return open(profile_path, 'a+b')\n",
    "    except OSError:\n",
    "        print(f'Failed to open path {profile_path}')\n",
    "        raise\n",
    "class Pictures(dict):\n",
    "    def __missing__(self, key):\n",
    "        value = open_picture(key)\n",
    "        self[key] = value\n",
    "        return value\n",
    "\n",
    "\n",
    "pictures = Pictures()\n",
    "handle = pictures[path]\n",
    "handle.seek(0)\n",
    "image_data = handle.read()"
   ]
  }
 ],
 "metadata": {
  "kernelspec": {
   "display_name": "Python 3 (ipykernel)",
   "language": "python",
   "name": "python3"
  },
  "language_info": {
   "codemirror_mode": {
    "name": "ipython",
    "version": 3
   },
   "file_extension": ".py",
   "mimetype": "text/x-python",
   "name": "python",
   "nbconvert_exporter": "python",
   "pygments_lexer": "ipython3",
   "version": "3.10.4"
  }
 },
 "nbformat": 4,
 "nbformat_minor": 5
}
