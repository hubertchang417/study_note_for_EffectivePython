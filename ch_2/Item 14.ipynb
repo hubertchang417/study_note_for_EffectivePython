{
 "cells": [
  {
   "cell_type": "code",
   "execution_count": 1,
   "id": "9f5aa100",
   "metadata": {},
   "outputs": [
    {
     "name": "stdout",
     "output_type": "stream",
     "text": [
      "[11, 68, 70, 86, 93]\n"
     ]
    }
   ],
   "source": [
    "#sort in ascending order\n",
    "numbers = [93, 86, 11, 68, 70]\n",
    "numbers.sort()\n",
    "print(numbers)"
   ]
  },
  {
   "cell_type": "code",
   "execution_count": 4,
   "id": "d289a2eb",
   "metadata": {},
   "outputs": [],
   "source": [
    "class Tool:\n",
    "    def __init__(self, name, weight):\n",
    "        self.name = name\n",
    "        self. weight = weight\n",
    "    \n",
    "    def __repr__(self):\n",
    "        return f'Tool({self.name!r}, {self.weight})'\n",
    "\n",
    "    \n",
    "tools = [\n",
    "    Tool('level', 3.5),\n",
    "    Tool('hammer', 1.25),\n",
    "    Tool('screwdriver', 0.5),\n",
    "    Tool('chisel', 0.25)\n",
    "]\n",
    "\n"
   ]
  },
  {
   "cell_type": "markdown",
   "id": "4149ec3b",
   "metadata": {},
   "source": [
    "Sorting objects of this type doesn't work because the sort method tries to call comparison special methods that aren't defined by the class"
   ]
  },
  {
   "cell_type": "code",
   "execution_count": 5,
   "id": "2f4614ec",
   "metadata": {},
   "outputs": [
    {
     "ename": "TypeError",
     "evalue": "'<' not supported between instances of 'Tool' and 'Tool'",
     "output_type": "error",
     "traceback": [
      "\u001b[1;31m---------------------------------------------------------------------------\u001b[0m",
      "\u001b[1;31mTypeError\u001b[0m                                 Traceback (most recent call last)",
      "Cell \u001b[1;32mIn[5], line 1\u001b[0m\n\u001b[1;32m----> 1\u001b[0m \u001b[43mtools\u001b[49m\u001b[38;5;241;43m.\u001b[39;49m\u001b[43msort\u001b[49m\u001b[43m(\u001b[49m\u001b[43m)\u001b[49m\n",
      "\u001b[1;31mTypeError\u001b[0m: '<' not supported between instances of 'Tool' and 'Tool'"
     ]
    }
   ],
   "source": [
    "tools.sort()"
   ]
  },
  {
   "cell_type": "code",
   "execution_count": 7,
   "id": "5bcd24dd",
   "metadata": {},
   "outputs": [
    {
     "name": "stdout",
     "output_type": "stream",
     "text": [
      "Unsorted: [Tool('level', 3.5), Tool('hammer', 1.25), Tool('screwdriver', 0.5), Tool('chisel', 0.25)]\n",
      "\n",
      "Sorted:   [Tool('chisel', 0.25), Tool('hammer', 1.25), Tool('level', 3.5), Tool('screwdriver', 0.5)]\n"
     ]
    }
   ],
   "source": [
    "print('Unsorted:', repr(tools))\n",
    "tools.sort(key=lambda x: x.name)\n",
    "print('\\nSorted:  ',tools)"
   ]
  },
  {
   "cell_type": "markdown",
   "id": "4e7bd68d",
   "metadata": {},
   "source": [
    "### For basic type like strings, you may even want to use the key function to do transformations on the values before sorting."
   ]
  },
  {
   "cell_type": "code",
   "execution_count": 8,
   "id": "bd10f251",
   "metadata": {},
   "outputs": [
    {
     "name": "stdout",
     "output_type": "stream",
     "text": [
      "Case sensitive:   ['New York', 'Paris', 'home', 'work']\n",
      "Case insensitive: ['home', 'New York', 'Paris', 'work']\n"
     ]
    }
   ],
   "source": [
    "places = ['home', 'work', 'New York', 'Paris']\n",
    "places.sort()\n",
    "print('Case sensitive:  ', places)\n",
    "places.sort(key=lambda x: x.lower())\n",
    "print('Case insensitive:', places)"
   ]
  },
  {
   "cell_type": "markdown",
   "id": "673f93cc",
   "metadata": {},
   "source": [
    "### Sometimes you may need to use multiple criteria for sorting. The simplest solution in Python is  to use the tuple type. Tuples are immutable sequences of arbitrary Python values. Tuples are comparable by default and have a natural ordering, meaning that they implement all of th special methods. Tuples implement these special method comparators by iterating over each position in tuple and comparing the corresponding values one index at a time."
   ]
  },
  {
   "cell_type": "code",
   "execution_count": 9,
   "id": "7eff20cd",
   "metadata": {},
   "outputs": [],
   "source": [
    "saw = (5, 'circular saw')\n",
    "jackhammer = (40, 'jackhammer')\n",
    "assert not (jackhammer < saw)"
   ]
  },
  {
   "cell_type": "code",
   "execution_count": 11,
   "id": "f00b6b39",
   "metadata": {},
   "outputs": [],
   "source": [
    "#If the first position in the tuples being compared are equal, \n",
    "#then the tuple comparsion will move on to the second position, and so on.\n",
    "drill = (4, 'driill')\n",
    "sander = (4, 'sander')\n",
    "assert drill[0] == sander[0] #Same weight\n",
    "assert drill[1] < sander[1]  #Alphabetically less\n",
    "assert drill < sander"
   ]
  },
  {
   "cell_type": "code",
   "execution_count": 13,
   "id": "fd0872b7",
   "metadata": {},
   "outputs": [
    {
     "name": "stdout",
     "output_type": "stream",
     "text": [
      "[Tool('drill', 4), Tool('sander', 4), Tool('circular', 5), Tool('jackhammer', 40)]\n"
     ]
    }
   ],
   "source": [
    "power_tools = [\n",
    "    Tool('drill', 4),\n",
    "    Tool('circular', 5),\n",
    "    Tool('jackhammer', 40),\n",
    "    Tool('sander', 4)\n",
    "]\n",
    "power_tools.sort(key=lambda x: (x.weight, x.name))\n",
    "print(power_tools)"
   ]
  },
  {
   "cell_type": "code",
   "execution_count": 14,
   "id": "f7b51c12",
   "metadata": {},
   "outputs": [
    {
     "name": "stdout",
     "output_type": "stream",
     "text": [
      "[Tool('jackhammer', 40), Tool('circular', 5), Tool('sander', 4), Tool('drill', 4)]\n"
     ]
    }
   ],
   "source": [
    "#one limitation of having the key function return a tuple is that the direction of sorting \n",
    "# for all criteria must be the same (either all in ascending order, or all in descending order)\n",
    "power_tools.sort(key=lambda x: (x.weight, x.name),\n",
    "                 reverse=True)\n",
    "print(power_tools)"
   ]
  },
  {
   "cell_type": "code",
   "execution_count": 15,
   "id": "aefab28f",
   "metadata": {},
   "outputs": [
    {
     "name": "stdout",
     "output_type": "stream",
     "text": [
      "[Tool('jackhammer', 40), Tool('circular', 5), Tool('drill', 4), Tool('sander', 4)]\n"
     ]
    }
   ],
   "source": [
    "#for numerical values it's possible to mix sorting directions by using the unary minus operator\n",
    "# in th key function\n",
    "power_tools.sort(key=lambda x: (-x.weight, x.name))\n",
    "print(power_tools)"
   ]
  },
  {
   "cell_type": "code",
   "execution_count": 16,
   "id": "3c449958",
   "metadata": {},
   "outputs": [
    {
     "name": "stdout",
     "output_type": "stream",
     "text": [
      "[Tool('circular', 5), Tool('drill', 4), Tool('jackhammer', 40), Tool('sander', 4)]\n",
      "[Tool('jackhammer', 40), Tool('circular', 5), Tool('drill', 4), Tool('sander', 4)]\n"
     ]
    }
   ],
   "source": [
    "#For situations like this, Python provides a stable sorting algorithm.\n",
    "#The sort method of the list type will preserve the order of the input\n",
    "#list when the key function returns values tha are equal to each other.\n",
    "#This means that I can call sort multiple times on the same list to co-\n",
    "#mbine different criteria together.\n",
    "power_tools.sort(key=lambda x:  x.name)\n",
    "print(power_tools)\n",
    "power_tools.sort(key=lambda x: x.weight,\n",
    "                 reverse=True)\n",
    "print(power_tools)"
   ]
  },
  {
   "cell_type": "code",
   "execution_count": null,
   "id": "a06ce76c",
   "metadata": {},
   "outputs": [],
   "source": []
  }
 ],
 "metadata": {
  "kernelspec": {
   "display_name": "Python 3 (ipykernel)",
   "language": "python",
   "name": "python3"
  },
  "language_info": {
   "codemirror_mode": {
    "name": "ipython",
    "version": 3
   },
   "file_extension": ".py",
   "mimetype": "text/x-python",
   "name": "python",
   "nbconvert_exporter": "python",
   "pygments_lexer": "ipython3",
   "version": "3.10.4"
  }
 },
 "nbformat": 4,
 "nbformat_minor": 5
}
