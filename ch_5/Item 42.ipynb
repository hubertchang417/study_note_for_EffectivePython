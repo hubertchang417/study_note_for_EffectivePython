{
 "cells": [
  {
   "cell_type": "code",
   "execution_count": 7,
   "id": "651b46a6",
   "metadata": {},
   "outputs": [],
   "source": [
    "class MyObject:\n",
    "    def __init__(self):\n",
    "        self.public_field = 5\n",
    "        self.__private_field = 10\n",
    "    def get_private_filed(self):\n",
    "        return self.__private_field"
   ]
  },
  {
   "cell_type": "code",
   "execution_count": 8,
   "id": "d802cc02",
   "metadata": {},
   "outputs": [],
   "source": [
    "foo = MyObject()\n",
    "assert foo.public_field == 5"
   ]
  },
  {
   "cell_type": "code",
   "execution_count": 9,
   "id": "93709036",
   "metadata": {},
   "outputs": [],
   "source": [
    "assert foo.get_private_filed() == 10"
   ]
  },
  {
   "cell_type": "code",
   "execution_count": 10,
   "id": "1888d0c2",
   "metadata": {},
   "outputs": [
    {
     "ename": "AttributeError",
     "evalue": "'MyObject' object has no attribute '__private_field'",
     "output_type": "error",
     "traceback": [
      "\u001b[1;31m---------------------------------------------------------------------------\u001b[0m",
      "\u001b[1;31mAttributeError\u001b[0m                            Traceback (most recent call last)",
      "Cell \u001b[1;32mIn[10], line 1\u001b[0m\n\u001b[1;32m----> 1\u001b[0m \u001b[43mfoo\u001b[49m\u001b[38;5;241;43m.\u001b[39;49m\u001b[43m__private_field\u001b[49m\n",
      "\u001b[1;31mAttributeError\u001b[0m: 'MyObject' object has no attribute '__private_field'"
     ]
    }
   ],
   "source": [
    "foo.__private_field"
   ]
  },
  {
   "cell_type": "code",
   "execution_count": 12,
   "id": "b06ce959",
   "metadata": {},
   "outputs": [
    {
     "name": "stdout",
     "output_type": "stream",
     "text": [
      "71\n"
     ]
    }
   ],
   "source": [
    "class MyOtherObject:\n",
    "    def __init__(self):\n",
    "        self.__private_field = 71\n",
    "        \n",
    "    @classmethod\n",
    "    def get_private_field_of_instance(cls, instance):\n",
    "        return instance.__private_field\n",
    "    \n",
    "bar = MyOtherObject()\n",
    "print(MyOtherObject.get_private_field_of_instance(bar))"
   ]
  },
  {
   "cell_type": "code",
   "execution_count": 20,
   "id": "11a0b2d0",
   "metadata": {},
   "outputs": [
    {
     "ename": "AttributeError",
     "evalue": "'MyChildObj' object has no attribute '_MyChildObj__private'",
     "output_type": "error",
     "traceback": [
      "\u001b[1;31m---------------------------------------------------------------------------\u001b[0m",
      "\u001b[1;31mAttributeError\u001b[0m                            Traceback (most recent call last)",
      "Cell \u001b[1;32mIn[20], line 12\u001b[0m\n\u001b[0;32m      9\u001b[0m         \u001b[38;5;28;01mreturn\u001b[39;00m \u001b[38;5;28mself\u001b[39m\u001b[38;5;241m.\u001b[39m__private\n\u001b[0;32m     11\u001b[0m baz \u001b[38;5;241m=\u001b[39m MyChildObj()\n\u001b[1;32m---> 12\u001b[0m \u001b[43mbaz\u001b[49m\u001b[38;5;241;43m.\u001b[39;49m\u001b[43mget_private_field\u001b[49m\u001b[43m(\u001b[49m\u001b[43m)\u001b[49m\n",
      "Cell \u001b[1;32mIn[20], line 9\u001b[0m, in \u001b[0;36mMyChildObj.get_private_field\u001b[1;34m(self)\u001b[0m\n\u001b[0;32m      8\u001b[0m \u001b[38;5;28;01mdef\u001b[39;00m \u001b[38;5;21mget_private_field\u001b[39m(\u001b[38;5;28mself\u001b[39m):\n\u001b[1;32m----> 9\u001b[0m     \u001b[38;5;28;01mreturn\u001b[39;00m \u001b[38;5;28;43mself\u001b[39;49m\u001b[38;5;241;43m.\u001b[39;49m\u001b[43m__private\u001b[49m\n",
      "\u001b[1;31mAttributeError\u001b[0m: 'MyChildObj' object has no attribute '_MyChildObj__private'"
     ]
    }
   ],
   "source": [
    "#subclass can't access its parent class's private fields\n",
    "class MyParentObj:\n",
    "    def __init__(self):\n",
    "        self.__private = 71\n",
    "        self.a = 99\n",
    "\n",
    "class MyChildObj(MyParentObj):\n",
    "    def get_private_field(self):\n",
    "        return self.__private\n",
    "    \n",
    "baz = MyChildObj()\n",
    "baz.get_private_field()"
   ]
  },
  {
   "cell_type": "code",
   "execution_count": 21,
   "id": "889787a5",
   "metadata": {},
   "outputs": [
    {
     "name": "stdout",
     "output_type": "stream",
     "text": [
      "71\n"
     ]
    }
   ],
   "source": [
    "print(baz._MyParentObj__private)"
   ]
  },
  {
   "cell_type": "code",
   "execution_count": 22,
   "id": "1be7f37f",
   "metadata": {},
   "outputs": [
    {
     "name": "stdout",
     "output_type": "stream",
     "text": [
      "{'_MyParentObj__private': 71, 'a': 99}\n"
     ]
    }
   ],
   "source": [
    "print(baz.__dict__)"
   ]
  },
  {
   "cell_type": "code",
   "execution_count": 23,
   "id": "8a9fc8e6",
   "metadata": {},
   "outputs": [],
   "source": [
    "class MyStringClass:\n",
    "    def __init__(self, value):\n",
    "        self.__value = value\n",
    "    \n",
    "    def get_value(self):\n",
    "        return str(self.__value)\n",
    "\n",
    "    \n",
    "foo = MyStringClass(5)\n",
    "assert foo.get_value() == '5'"
   ]
  },
  {
   "cell_type": "code",
   "execution_count": 24,
   "id": "e84450f6",
   "metadata": {},
   "outputs": [],
   "source": [
    "class MyIntegerSubclass(MyStringClass):\n",
    "    def get_value(self):\n",
    "        return int(self._MyStringClass__value)\n",
    "    \n",
    "\n",
    "foo = MyIntegerSubclass('5')\n",
    "assert foo.get_value() == 5"
   ]
  },
  {
   "cell_type": "code",
   "execution_count": 30,
   "id": "c8d5ee67",
   "metadata": {},
   "outputs": [
    {
     "name": "stdout",
     "output_type": "stream",
     "text": [
      "{'_MyBaseClass__value': 5}\n"
     ]
    },
    {
     "ename": "AttributeError",
     "evalue": "'MyIntegerSubclass' object has no attribute '_MyStringClass__value'",
     "output_type": "error",
     "traceback": [
      "\u001b[1;31m---------------------------------------------------------------------------\u001b[0m",
      "\u001b[1;31mAttributeError\u001b[0m                            Traceback (most recent call last)",
      "Cell \u001b[1;32mIn[30], line 20\u001b[0m\n\u001b[0;32m     18\u001b[0m foo \u001b[38;5;241m=\u001b[39m MyIntegerSubclass(\u001b[38;5;241m5\u001b[39m)\n\u001b[0;32m     19\u001b[0m \u001b[38;5;28mprint\u001b[39m(foo\u001b[38;5;241m.\u001b[39m\u001b[38;5;18m__dict__\u001b[39m)\n\u001b[1;32m---> 20\u001b[0m \u001b[38;5;28mprint\u001b[39m(\u001b[43mfoo\u001b[49m\u001b[38;5;241;43m.\u001b[39;49m\u001b[43mget_value\u001b[49m\u001b[43m(\u001b[49m\u001b[43m)\u001b[49m)\n",
      "Cell \u001b[1;32mIn[30], line 16\u001b[0m, in \u001b[0;36mMyIntegerSubclass.get_value\u001b[1;34m(self)\u001b[0m\n\u001b[0;32m     15\u001b[0m \u001b[38;5;28;01mdef\u001b[39;00m \u001b[38;5;21mget_value\u001b[39m(\u001b[38;5;28mself\u001b[39m):\n\u001b[1;32m---> 16\u001b[0m     \u001b[38;5;28;01mreturn\u001b[39;00m \u001b[38;5;28mint\u001b[39m(\u001b[38;5;28;43mself\u001b[39;49m\u001b[38;5;241;43m.\u001b[39;49m\u001b[43m_MyStringClass__value\u001b[49m)\n",
      "\u001b[1;31mAttributeError\u001b[0m: 'MyIntegerSubclass' object has no attribute '_MyStringClass__value'"
     ]
    }
   ],
   "source": [
    "class MyBaseClass:\n",
    "    def __init__(self, value):\n",
    "        self.__value = value\n",
    "    \n",
    "    def get_value(self):\n",
    "        return self.__value\n",
    "    \n",
    "    \n",
    "class MyStringClass(MyBaseClass):\n",
    "    def get_value(self):\n",
    "        return str(super().get_value())  #Updated\n",
    "    \n",
    "    \n",
    "class MyIntegerSubclass(MyStringClass):\n",
    "    def get_value(self):\n",
    "        return int(self._MyStringClass__value) #Not updated\n",
    "    \n",
    "foo = MyIntegerSubclass(5)\n",
    "print(foo.__dict__)\n",
    "print(foo.get_value())\n"
   ]
  },
  {
   "cell_type": "code",
   "execution_count": 31,
   "id": "e66cd0ec",
   "metadata": {},
   "outputs": [
    {
     "name": "stdout",
     "output_type": "stream",
     "text": [
      "hello and hello should be different\n"
     ]
    }
   ],
   "source": [
    "#the only time to seriously consider using private attributes is\n",
    "#when you're worried about naming conflicts with cubclasses\n",
    "class ApiClass:\n",
    "    def __init__(self):\n",
    "        self._value = 5\n",
    "        \n",
    "    def get(self):\n",
    "        return self._value\n",
    "    \n",
    "class Child(ApiClass):\n",
    "    def __init__(self):\n",
    "        super().__init__()\n",
    "        self._value= 'hello' #conflicts\n",
    "        \n",
    "a = Child()\n",
    "print(f'{a.get()} and {a._value} should be different')"
   ]
  },
  {
   "cell_type": "code",
   "execution_count": 32,
   "id": "02487e64",
   "metadata": {},
   "outputs": [
    {
     "name": "stdout",
     "output_type": "stream",
     "text": [
      "5 and hello are different\n"
     ]
    }
   ],
   "source": [
    "class ApiClass:\n",
    "    def __init__(self):\n",
    "        self.__value = 5    #Double underscore\n",
    "        \n",
    "    def get(self):\n",
    "        return self.__value #Double underscore\n",
    "    \n",
    "class Child(ApiClass):\n",
    "    def __init__(self):\n",
    "        super().__init__()\n",
    "        self._value= 'hello' \n",
    "        \n",
    "a = Child()\n",
    "print(f'{a.get()} and {a._value} are different')"
   ]
  },
  {
   "cell_type": "code",
   "execution_count": null,
   "id": "f62f25c0",
   "metadata": {},
   "outputs": [],
   "source": []
  }
 ],
 "metadata": {
  "kernelspec": {
   "display_name": "Python 3 (ipykernel)",
   "language": "python",
   "name": "python3"
  },
  "language_info": {
   "codemirror_mode": {
    "name": "ipython",
    "version": 3
   },
   "file_extension": ".py",
   "mimetype": "text/x-python",
   "name": "python",
   "nbconvert_exporter": "python",
   "pygments_lexer": "ipython3",
   "version": "3.10.4"
  }
 },
 "nbformat": 4,
 "nbformat_minor": 5
}
