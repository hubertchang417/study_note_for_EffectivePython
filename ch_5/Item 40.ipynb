{
 "cells": [
  {
   "cell_type": "markdown",
   "id": "66339dc3",
   "metadata": {},
   "source": [
    "The old, simple way to initialize a parent class from a child class is to directly call the parent class's init method with the child instance"
   ]
  },
  {
   "cell_type": "code",
   "execution_count": 1,
   "id": "13e754ed",
   "metadata": {},
   "outputs": [],
   "source": [
    "class MyBaseClass:\n",
    "    def __init__(self, value):\n",
    "        self.value = value\n",
    "\n",
    "\n",
    "class MyChildClass(MyBaseClass):\n",
    "    def __init__(self):\n",
    "        MyBeseClass.__init__(self, 5)\n",
    "        \n",
    "#this approach works fine for basic class hierarchies but breaks in many cases."
   ]
  },
  {
   "cell_type": "markdown",
   "id": "64b8b0e0",
   "metadata": {},
   "source": [
    "If a class isaffected by multiple inheritance, calling the superclasses' ___init___ methods directly can lead to unpredictable behavior"
   ]
  },
  {
   "cell_type": "code",
   "execution_count": 2,
   "id": "ec317729",
   "metadata": {},
   "outputs": [],
   "source": [
    "class TimesTwo:\n",
    "    def __init__(self):\n",
    "        self.value *= 2\n",
    "\n",
    "\n",
    "class PlusFive:\n",
    "    def __init__(self):\n",
    "        self.value += 5\n",
    "        \n",
    "#consturcting it prodeces a result that matches the parent class order\n",
    "class OneWay(MyBaseClass, TimesTwo, PlusFive):\n",
    "    def __init__(self, value):\n",
    "        MyBaseClass.__init__(self, value)\n",
    "        TimesTwo.__init__(self)\n",
    "        PlusFive.__init__(self)"
   ]
  },
  {
   "cell_type": "code",
   "execution_count": 3,
   "id": "4790f2ef",
   "metadata": {},
   "outputs": [
    {
     "name": "stdout",
     "output_type": "stream",
     "text": [
      "First ordering value is (5 * 2) + 5 = 15\n"
     ]
    }
   ],
   "source": [
    "foo = OneWay(5)\n",
    "print('First ordering value is (5 * 2) + 5 =', foo.value)"
   ]
  },
  {
   "cell_type": "code",
   "execution_count": 4,
   "id": "80dd10c8",
   "metadata": {},
   "outputs": [
    {
     "name": "stdout",
     "output_type": "stream",
     "text": [
      "Second ordering value is (5 * 2) + 5 = 15\n"
     ]
    }
   ],
   "source": [
    "#in different order\n",
    "class AnotherWay(MyBaseClass, PlusFive, TimesTwo):\n",
    "    def __init__(self, value):\n",
    "        MyBaseClass.__init__(self, value)\n",
    "        TimesTwo.__init__(self)\n",
    "        PlusFive.__init__(self)\n",
    "\n",
    "        \n",
    "bar = AnotherWay(5)\n",
    "print('Second ordering value is (5 * 2) + 5 =', bar.value)"
   ]
  },
  {
   "cell_type": "markdown",
   "id": "d57a4cb9",
   "metadata": {},
   "source": [
    "Diamond inheritance happens when a subclass inherits from two separate classes that have the same superclass somewhere in the hierarchy. Diamond inheritance causes the common superclass's init method toe run multiple times, causing unexpected behavior."
   ]
  },
  {
   "cell_type": "code",
   "execution_count": 5,
   "id": "213e8090",
   "metadata": {},
   "outputs": [
    {
     "name": "stdout",
     "output_type": "stream",
     "text": [
      "Should be (5 * 7) + 9 = 44 but is 14\n"
     ]
    }
   ],
   "source": [
    "class TimesSeven(MyBaseClass):\n",
    "    def __init__(self, value):\n",
    "        MyBaseClass.__init__(self, value)\n",
    "        self.value *= 7\n",
    "        \n",
    "        \n",
    "class PlusNine(MyBaseClass):\n",
    "    def __init__(self, value):\n",
    "        MyBaseClass.__init__(self, value)\n",
    "        self.value += 9\n",
    "        \n",
    "        \n",
    "class ThisWay(TimesSeven, PlusNine):\n",
    "    def __init__(self, value):\n",
    "        TimesSeven.__init__(self, value)\n",
    "        PlusNine.__init__(self, value)\n",
    "        \n",
    "        \n",
    "foo = ThisWay(5)\n",
    "print('Should be (5 * 7) + 9 = 44 but is', foo.value)\n",
    "    "
   ]
  },
  {
   "cell_type": "markdown",
   "id": "64cfa30a",
   "metadata": {},
   "source": [
    "### To solve these problems, Python has the super built-in function and standard method resolution order(MOR)\n",
    "\n",
    "* super ensures that common superclasses in diamond hierarchies are run only once\n",
    "* The MRO defines the ordering in which superclasses are initialized, following an algorithm called C3 linearization."
   ]
  },
  {
   "cell_type": "code",
   "execution_count": 6,
   "id": "19eae796",
   "metadata": {},
   "outputs": [],
   "source": [
    "class TimesSevenCorrect(MyBaseClass):\n",
    "    def __init__(self, value):\n",
    "        super().__init__(value)\n",
    "        self.value *= 7\n",
    "        \n",
    "        \n",
    "class PlusNineCorrect(MyBaseClass):\n",
    "    def __init__(self, value):\n",
    "        super().__init__( value)\n",
    "        self.value += 9"
   ]
  },
  {
   "cell_type": "code",
   "execution_count": 7,
   "id": "0a47157f",
   "metadata": {},
   "outputs": [
    {
     "name": "stdout",
     "output_type": "stream",
     "text": [
      "Should be 7 * (5 + 9) = 98 but is 98\n"
     ]
    }
   ],
   "source": [
    "#Now, the top part of the diamond, MyBaseClass.__init++, is run only a single time. \n",
    "#The other parent classes are run in the order specified in the class statement\n",
    "\n",
    "class GoodWay(TimesSevenCorrect, PlusNineCorrect):\n",
    "    def __init__(self, value):\n",
    "        super().__init__(value)\n",
    "        \n",
    "\n",
    "foo = GoodWay(5)\n",
    "print('Should be 7 * (5 + 9) = 98 but is', foo.value)"
   ]
  },
  {
   "cell_type": "code",
   "execution_count": 8,
   "id": "c135c87a",
   "metadata": {},
   "outputs": [
    {
     "name": "stdout",
     "output_type": "stream",
     "text": [
      "<class '__main__.GoodWay'>\n",
      "<class '__main__.TimesSevenCorrect'>\n",
      "<class '__main__.PlusNineCorrect'>\n",
      "<class '__main__.MyBaseClass'>\n",
      "<class 'object'>\n"
     ]
    }
   ],
   "source": [
    "mro_str = '\\n'.join(repr(cls) for cls in GoodWay.mro())\n",
    "print(mro_str)"
   ]
  },
  {
   "cell_type": "code",
   "execution_count": 11,
   "id": "1c5a2c4f",
   "metadata": {},
   "outputs": [],
   "source": [
    "class ExplictTrisect(MyBaseClass):\n",
    "    def __init__(self, value):\n",
    "        super(ExplictTrisect, self).__init__(value)\n",
    "        self.value /= 3\n",
    "        \n",
    "        \n",
    "class AutomaticTrisect(MyBaseClass):\n",
    "    def __init__(self, value):\n",
    "        super(__class__, self).__init__(value)\n",
    "        self.value /= 3\n",
    "        \n",
    "        \n",
    "class ImplicitTrisect(MyBaseClass):\n",
    "    def __init__(self, value):\n",
    "        super().__init__(value)\n",
    "        self.value /= 3\n",
    "        \n",
    "\n",
    "assert ExplictTrisect(9).value == 3\n",
    "assert AutomaticTrisect(9).value == 3\n",
    "assert ImplicitTrisect(9).value == 3"
   ]
  },
  {
   "cell_type": "markdown",
   "id": "f55c9bc7",
   "metadata": {},
   "source": [
    "The only time you should provide parameters to super is in situations where you need to access the specific functionality of a superclass's implementation from a  child class"
   ]
  },
  {
   "cell_type": "code",
   "execution_count": null,
   "id": "24659c4c",
   "metadata": {},
   "outputs": [],
   "source": []
  }
 ],
 "metadata": {
  "kernelspec": {
   "display_name": "Python 3 (ipykernel)",
   "language": "python",
   "name": "python3"
  },
  "language_info": {
   "codemirror_mode": {
    "name": "ipython",
    "version": 3
   },
   "file_extension": ".py",
   "mimetype": "text/x-python",
   "name": "python",
   "nbconvert_exporter": "python",
   "pygments_lexer": "ipython3",
   "version": "3.10.4"
  }
 },
 "nbformat": 4,
 "nbformat_minor": 5
}
