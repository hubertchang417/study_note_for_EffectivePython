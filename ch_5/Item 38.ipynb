{
 "cells": [
  {
   "cell_type": "code",
   "execution_count": 1,
   "id": "27b83d7a",
   "metadata": {},
   "outputs": [
    {
     "name": "stdout",
     "output_type": "stream",
     "text": [
      "['Plato', 'Socrates', 'Aristotle', 'Archimedes']\n"
     ]
    }
   ],
   "source": [
    "names = ['Socrates', 'Archimedes', 'Plato', 'Aristotle']\n",
    "names.sort(key=len)\n",
    "print(names)"
   ]
  },
  {
   "cell_type": "markdown",
   "id": "394a4341",
   "metadata": {},
   "source": [
    "### *first-class* function: Functions work and methods can be passed around and referenced like any other value in the langeage"
   ]
  },
  {
   "cell_type": "code",
   "execution_count": 2,
   "id": "61d98535",
   "metadata": {},
   "outputs": [],
   "source": [
    "#define a hook that logs each time a key is missing and returns 0 for the default value\n",
    "def log_missing():\n",
    "    print('Key added')\n",
    "    return 0"
   ]
  },
  {
   "cell_type": "code",
   "execution_count": 6,
   "id": "812a4cd1",
   "metadata": {},
   "outputs": [
    {
     "name": "stdout",
     "output_type": "stream",
     "text": [
      "defaultdict(<function log_missing at 0x00000295E9318790>, {'green': 12, 'blue': 3})\n",
      "Before: {'green': 12, 'blue': 3}\n",
      "Key added\n",
      "Key added\n",
      "After:  {'green': 12, 'blue': 20, 'red': 5, 'orange': 9}\n"
     ]
    }
   ],
   "source": [
    "from collections import defaultdict\n",
    "\n",
    "current = {'green': 12, 'blue': 3}\n",
    "increments = [\n",
    "    ('red', 5),\n",
    "    ('blue', 17),\n",
    "    ('orange', 9)\n",
    "]\n",
    "result = defaultdict(log_missing, current)\n",
    "print(result)\n",
    "print('Before:', dict(result))\n",
    "for key, amount in increments:\n",
    "    result[key] += amount\n",
    "print('After: ', dict(result))"
   ]
  },
  {
   "cell_type": "markdown",
   "id": "40a96bd8",
   "metadata": {},
   "source": [
    "Supplying functions like log_missing makes APIs easy to build and test because it separates sied effects from deterministic behavior"
   ]
  },
  {
   "cell_type": "code",
   "execution_count": 7,
   "id": "46437204",
   "metadata": {},
   "outputs": [],
   "source": [
    "def increment_with_report(current, increments):\n",
    "    added_count = 0\n",
    "    \n",
    "    def missing():\n",
    "        nonlocal added_count\n",
    "        added_count += 1\n",
    "        return 0\n",
    "    \n",
    "    result = defaultdict(missing, current)\n",
    "    for key, amount in increments:\n",
    "        result[key] += amount\n",
    "    return result, added_count\n",
    "\n",
    "result, count = increment_with_report(current, increments)\n",
    "assert count == 2"
   ]
  },
  {
   "cell_type": "markdown",
   "id": "603645e4",
   "metadata": {},
   "source": [
    "### The problem with defining a closure for stateful hooks is that it's harder to read than the stateledd function example"
   ]
  },
  {
   "cell_type": "code",
   "execution_count": 8,
   "id": "be7fa22b",
   "metadata": {},
   "outputs": [],
   "source": [
    "class CountMissing:\n",
    "    def __init__(self):\n",
    "        self.added = 0\n",
    "    \n",
    "    def missing(self):\n",
    "        self.added += 1\n",
    "        return 0"
   ]
  },
  {
   "cell_type": "code",
   "execution_count": 9,
   "id": "87ed0329",
   "metadata": {},
   "outputs": [],
   "source": [
    "counter = CountMissing()\n",
    "result = defaultdict(counter.missing, current) # Method ref\n",
    "for key, amount in increments:\n",
    "    result[key]  += amount\n",
    "assert counter.added == 2"
   ]
  },
  {
   "cell_type": "markdown",
   "id": "0899914c",
   "metadata": {},
   "source": [
    "### To clarify this situation, Python allows classes to define the __call__ special method.\n",
    "\n",
    "* _ _call_ _ allows an object to be called just like a function.\n",
    "* It also causes the callable built-in function to return True for such an instance"
   ]
  },
  {
   "cell_type": "code",
   "execution_count": 10,
   "id": "7864c1a2",
   "metadata": {},
   "outputs": [
    {
     "name": "stdout",
     "output_type": "stream",
     "text": [
      "1\n"
     ]
    }
   ],
   "source": [
    "class BetterCountMissing:\n",
    "    def __init__(self):\n",
    "        self.added = 0\n",
    "    \n",
    "    def __call__(self):\n",
    "        self.added += 1\n",
    "        return 0\n",
    "    \n",
    "counter = BetterCountMissing()\n",
    "assert counter() == 0\n",
    "print(counter.added)\n",
    "assert callable(counter)"
   ]
  },
  {
   "cell_type": "code",
   "execution_count": 11,
   "id": "fb2a9398",
   "metadata": {},
   "outputs": [],
   "source": [
    "counter = BetterCountMissing()\n",
    "result = defaultdict(counter, current) # Relies on __call__\n",
    "for key, amount in increments:\n",
    "    result[key] += amount\n",
    "assert counter.added == 2"
   ]
  },
  {
   "cell_type": "code",
   "execution_count": null,
   "id": "ca0e5dae",
   "metadata": {},
   "outputs": [],
   "source": []
  }
 ],
 "metadata": {
  "kernelspec": {
   "display_name": "Python 3 (ipykernel)",
   "language": "python",
   "name": "python3"
  },
  "language_info": {
   "codemirror_mode": {
    "name": "ipython",
    "version": 3
   },
   "file_extension": ".py",
   "mimetype": "text/x-python",
   "name": "python",
   "nbconvert_exporter": "python",
   "pygments_lexer": "ipython3",
   "version": "3.10.4"
  }
 },
 "nbformat": 4,
 "nbformat_minor": 5
}
