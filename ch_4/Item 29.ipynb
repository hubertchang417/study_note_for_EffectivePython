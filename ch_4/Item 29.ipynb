{
 "cells": [
  {
   "cell_type": "code",
   "execution_count": 1,
   "id": "09d17f28",
   "metadata": {},
   "outputs": [
    {
     "name": "stdout",
     "output_type": "stream",
     "text": [
      "{'screws': 4, 'wingnuts': 1}\n"
     ]
    }
   ],
   "source": [
    "stock = {\n",
    "    'nails': 125,\n",
    "    'screws': 35,\n",
    "    'wingnuts': 8,\n",
    "    'washers': 24\n",
    "}\n",
    "\n",
    "order = ['screws', 'wingnuts', 'clips']\n",
    "\n",
    "def get_batches(count, size):\n",
    "    return count // size\n",
    "\n",
    "result = {}\n",
    "for name in order:\n",
    "    count = stock.get(name, 0)\n",
    "    batches = get_batches(count, 8)\n",
    "    if batches:\n",
    "        result[name] = batches\n",
    "print(result)"
   ]
  },
  {
   "cell_type": "code",
   "execution_count": 3,
   "id": "7a09c7ea",
   "metadata": {},
   "outputs": [
    {
     "name": "stdout",
     "output_type": "stream",
     "text": [
      "{'screws': 4, 'wingnuts': 1}\n"
     ]
    }
   ],
   "source": [
    "#implement this looping logic more succinctly using a dictionary comprehension\n",
    "\n",
    "found = {name: get_batches(stock.get(name, 0), 8)\n",
    "         for name in order\n",
    "         if get_batches(stock.get(name, 0), 8)}\n",
    "print(found)"
   ]
  },
  {
   "cell_type": "code",
   "execution_count": 4,
   "id": "98a3c991",
   "metadata": {},
   "outputs": [
    {
     "name": "stdout",
     "output_type": "stream",
     "text": [
      "{'screws': 4, 'wingnuts': 1}\n"
     ]
    }
   ],
   "source": [
    "#an easy solution to these problem is to use walrus operator\n",
    "found = {name: batches\n",
    "         for name in order\n",
    "         if (batches := get_batches(stock.get(name, 0), 8))}\n",
    "print(found)"
   ]
  },
  {
   "cell_type": "markdown",
   "id": "832bb05f",
   "metadata": {},
   "source": [
    "But if you try to reference the variable it defines in other parts of the comprehension, you might get an exception at runtime because of the order in which comprehensions are evaluated"
   ]
  },
  {
   "cell_type": "code",
   "execution_count": 5,
   "id": "29d992be",
   "metadata": {},
   "outputs": [
    {
     "ename": "NameError",
     "evalue": "name 'tenth' is not defined",
     "output_type": "error",
     "traceback": [
      "\u001b[1;31m---------------------------------------------------------------------------\u001b[0m",
      "\u001b[1;31mNameError\u001b[0m                                 Traceback (most recent call last)",
      "Cell \u001b[1;32mIn[5], line 1\u001b[0m\n\u001b[1;32m----> 1\u001b[0m result \u001b[38;5;241m=\u001b[39m {name: (tenth \u001b[38;5;241m:=\u001b[39m count \u001b[38;5;241m/\u001b[39m\u001b[38;5;241m/\u001b[39m \u001b[38;5;241m10\u001b[39m)\n\u001b[0;32m      2\u001b[0m           \u001b[38;5;28;01mfor\u001b[39;00m name, count \u001b[38;5;129;01min\u001b[39;00m stock\u001b[38;5;241m.\u001b[39mitems() \n\u001b[0;32m      3\u001b[0m           \u001b[38;5;28;01mif\u001b[39;00m tenth \u001b[38;5;241m>\u001b[39m \u001b[38;5;241m0\u001b[39m}\n",
      "Cell \u001b[1;32mIn[5], line 3\u001b[0m, in \u001b[0;36m<dictcomp>\u001b[1;34m(.0)\u001b[0m\n\u001b[0;32m      1\u001b[0m result \u001b[38;5;241m=\u001b[39m {name: (tenth \u001b[38;5;241m:=\u001b[39m count \u001b[38;5;241m/\u001b[39m\u001b[38;5;241m/\u001b[39m \u001b[38;5;241m10\u001b[39m)\n\u001b[0;32m      2\u001b[0m           \u001b[38;5;28;01mfor\u001b[39;00m name, count \u001b[38;5;129;01min\u001b[39;00m stock\u001b[38;5;241m.\u001b[39mitems() \n\u001b[1;32m----> 3\u001b[0m           \u001b[38;5;28;01mif\u001b[39;00m \u001b[43mtenth\u001b[49m \u001b[38;5;241m>\u001b[39m \u001b[38;5;241m0\u001b[39m}\n",
      "\u001b[1;31mNameError\u001b[0m: name 'tenth' is not defined"
     ]
    }
   ],
   "source": [
    "result = {name: (tenth := count // 10)\n",
    "          for name, count in stock.items() \n",
    "          if tenth > 0}"
   ]
  },
  {
   "cell_type": "code",
   "execution_count": 6,
   "id": "40f45f17",
   "metadata": {},
   "outputs": [
    {
     "name": "stdout",
     "output_type": "stream",
     "text": [
      "{'nails': 12, 'screws': 3, 'washers': 2}\n"
     ]
    }
   ],
   "source": [
    "result = {name: tenth \n",
    "          for name, count in stock.items()\n",
    "          if (tenth := count // 10) > 0}\n",
    "print(result)"
   ]
  },
  {
   "cell_type": "code",
   "execution_count": 7,
   "id": "f666feed",
   "metadata": {},
   "outputs": [
    {
     "name": "stdout",
     "output_type": "stream",
     "text": [
      "Last item of [62, 17, 4, 12] is 12\n"
     ]
    }
   ],
   "source": [
    "#if a comprehension uses the walrus operator in the calue part of the comprehension and\n",
    "# doesn't have a condition, it'll leak the loop varialbe into the containing scope\n",
    "half = [(last := count // 2) for count in stock.values()]\n",
    "print(f'Last item of {half} is {last}')"
   ]
  },
  {
   "cell_type": "code",
   "execution_count": 9,
   "id": "e66a5c08",
   "metadata": {},
   "outputs": [
    {
     "name": "stdout",
     "output_type": "stream",
     "text": [
      "Last item of [125, 35, 8, 24] is 24\n"
     ]
    }
   ],
   "source": [
    "for count in stock.values(): # Leaks loop variable\n",
    "    pass\n",
    "print(f'Last item of {list(stock.values())} is {count}')"
   ]
  },
  {
   "cell_type": "code",
   "execution_count": 11,
   "id": "8b5ef0f7",
   "metadata": {},
   "outputs": [
    {
     "name": "stdout",
     "output_type": "stream",
     "text": [
      "[62, 17, 4, 12]\n"
     ]
    },
    {
     "ename": "NameError",
     "evalue": "name 'counts' is not defined",
     "output_type": "error",
     "traceback": [
      "\u001b[1;31m---------------------------------------------------------------------------\u001b[0m",
      "\u001b[1;31mNameError\u001b[0m                                 Traceback (most recent call last)",
      "Cell \u001b[1;32mIn[11], line 4\u001b[0m\n\u001b[0;32m      2\u001b[0m half \u001b[38;5;241m=\u001b[39m [counts \u001b[38;5;241m/\u001b[39m\u001b[38;5;241m/\u001b[39m \u001b[38;5;241m2\u001b[39m \u001b[38;5;28;01mfor\u001b[39;00m counts \u001b[38;5;129;01min\u001b[39;00m stock\u001b[38;5;241m.\u001b[39mvalues()]\n\u001b[0;32m      3\u001b[0m \u001b[38;5;28mprint\u001b[39m(half)  \u001b[38;5;66;03m#works\u001b[39;00m\n\u001b[1;32m----> 4\u001b[0m \u001b[38;5;28mprint\u001b[39m(\u001b[43mcounts\u001b[49m)\n",
      "\u001b[1;31mNameError\u001b[0m: name 'counts' is not defined"
     ]
    }
   ],
   "source": [
    "#However, similar leakage doesn't happen for the loop variables from comprehensions\n",
    "half = [counts // 2 for counts in stock.values()]\n",
    "print(half)  #works\n",
    "print(counts) #Exception because loop variable didn't leak"
   ]
  },
  {
   "cell_type": "code",
   "execution_count": 12,
   "id": "01e87dd4",
   "metadata": {},
   "outputs": [
    {
     "name": "stdout",
     "output_type": "stream",
     "text": [
      "('screws', 4)\n",
      "('wingnuts', 1)\n"
     ]
    }
   ],
   "source": [
    "#using an assignment expression also works the same way in generator expressions\n",
    "found = ((name, batches) for name in order\n",
    "         if (batches := get_batches(stock.get(name, 0), 8)))\n",
    "print(next(found))\n",
    "print(next(found))"
   ]
  },
  {
   "cell_type": "code",
   "execution_count": null,
   "id": "d094791c",
   "metadata": {},
   "outputs": [],
   "source": []
  }
 ],
 "metadata": {
  "kernelspec": {
   "display_name": "Python 3 (ipykernel)",
   "language": "python",
   "name": "python3"
  },
  "language_info": {
   "codemirror_mode": {
    "name": "ipython",
    "version": 3
   },
   "file_extension": ".py",
   "mimetype": "text/x-python",
   "name": "python",
   "nbconvert_exporter": "python",
   "pygments_lexer": "ipython3",
   "version": "3.10.4"
  }
 },
 "nbformat": 4,
 "nbformat_minor": 5
}
