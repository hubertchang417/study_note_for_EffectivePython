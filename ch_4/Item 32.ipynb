{
 "cells": [
  {
   "cell_type": "code",
   "execution_count": 2,
   "id": "aa419376",
   "metadata": {},
   "outputs": [
    {
     "name": "stdout",
     "output_type": "stream",
     "text": [
      "[118, 115, 118, 118, 89]\n"
     ]
    }
   ],
   "source": [
    "value = [len(x) for x in open('address.txt')]\n",
    "print(value)"
   ]
  },
  {
   "cell_type": "code",
   "execution_count": 3,
   "id": "fd2f8ebc",
   "metadata": {},
   "outputs": [
    {
     "name": "stdout",
     "output_type": "stream",
     "text": [
      "<generator object <genexpr> at 0x000001B48F0546D0>\n"
     ]
    }
   ],
   "source": [
    "#You create a generator expression by putting list-comprehension-like syntac\n",
    "#between () characters\n",
    "it = (len(x) for x in open('address.txt'))\n",
    "print(it)"
   ]
  },
  {
   "cell_type": "code",
   "execution_count": 4,
   "id": "1bfeac7b",
   "metadata": {},
   "outputs": [
    {
     "name": "stdout",
     "output_type": "stream",
     "text": [
      "118\n",
      "115\n"
     ]
    }
   ],
   "source": [
    "print(next(it))\n",
    "print(next(it))"
   ]
  },
  {
   "cell_type": "code",
   "execution_count": 5,
   "id": "88c1497d",
   "metadata": {},
   "outputs": [
    {
     "name": "stdout",
     "output_type": "stream",
     "text": [
      "(118, 10.862780491200215)\n"
     ]
    }
   ],
   "source": [
    "#Another powerful outcome of generator expression is that they can be \n",
    "#composed together.\n",
    "roots = ((x, x**0.5) for x in it)\n",
    "print(next(roots))"
   ]
  },
  {
   "cell_type": "markdown",
   "id": "b751e980",
   "metadata": {},
   "source": [
    "Chaining generators togeeher like this executes very quickly in Python. When you're looking for a way to compose functionality that's operating on a large stream of input, generator expressions are a great choice.\n",
    "\n",
    "* The only gotcha is that the iterators returned by generator expressions are stateful, so you must be careful not to use these iterator more than once"
   ]
  },
  {
   "cell_type": "code",
   "execution_count": 13,
   "id": "0d5d46a6",
   "metadata": {},
   "outputs": [
    {
     "name": "stdout",
     "output_type": "stream",
     "text": [
      "[1, 0]\n",
      "{1: [1, 100]}\n"
     ]
    }
   ],
   "source": [
    "chk = {1: [1,0]}\n",
    "\n",
    "if (res := chk.get(1, [-1,-1]))[1]!= -1:\n",
    "    print(res)\n",
    "res[1]=100\n",
    "print(chk)"
   ]
  },
  {
   "cell_type": "code",
   "execution_count": 11,
   "id": "48a98e67",
   "metadata": {},
   "outputs": [],
   "source": [
    "a=[1,2]\n",
    "if a == 1:\n",
    "    print('yes')"
   ]
  },
  {
   "cell_type": "code",
   "execution_count": null,
   "id": "e716cd8c",
   "metadata": {},
   "outputs": [],
   "source": []
  }
 ],
 "metadata": {
  "kernelspec": {
   "display_name": "Python 3 (ipykernel)",
   "language": "python",
   "name": "python3"
  },
  "language_info": {
   "codemirror_mode": {
    "name": "ipython",
    "version": 3
   },
   "file_extension": ".py",
   "mimetype": "text/x-python",
   "name": "python",
   "nbconvert_exporter": "python",
   "pygments_lexer": "ipython3",
   "version": "3.10.4"
  }
 },
 "nbformat": 4,
 "nbformat_minor": 5
}
