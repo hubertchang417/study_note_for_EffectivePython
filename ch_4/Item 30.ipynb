{
 "cells": [
  {
   "cell_type": "code",
   "execution_count": 1,
   "id": "d6786b7a",
   "metadata": {},
   "outputs": [
    {
     "name": "stdout",
     "output_type": "stream",
     "text": [
      "[0, 5, 11, 15, 21, 27]\n"
     ]
    }
   ],
   "source": [
    "def index_words(text):\n",
    "    result = []\n",
    "    if text:\n",
    "        result.append(0)\n",
    "    for index, letter in enumerate(text):\n",
    "        if letter == ' ':\n",
    "            result.append(index + 1)\n",
    "    return result\n",
    "\n",
    "address = 'Fout score and seven years ago...'\n",
    "result = index_words(address)\n",
    "print(result)"
   ]
  },
  {
   "cell_type": "markdown",
   "id": "0d0af949",
   "metadata": {},
   "source": [
    "### There are two problems with the index_words function.\n",
    "1. the code is a bit dense and noisy. Each time a new reult is found, I call the append method. A better way to write this functions that use yield expressions "
   ]
  },
  {
   "cell_type": "code",
   "execution_count": 2,
   "id": "8d5502fc",
   "metadata": {},
   "outputs": [],
   "source": [
    "def index_words_iter(text):\n",
    "    if text:\n",
    "        yield 0\n",
    "    for index, letter in enumerate(text):\n",
    "        if letter == ' ':\n",
    "            yield index + 1"
   ]
  },
  {
   "cell_type": "markdown",
   "id": "2b1f3d3c",
   "metadata": {},
   "source": [
    "when called, a generator function does not actually run but instead immediately returns an iterator. With each call to the next built-in function, the iterator advances the generator to its next yeild expression. Each value passed to yield by the generator is returned by the iterator to the caller"
   ]
  },
  {
   "cell_type": "code",
   "execution_count": 3,
   "id": "bf41ee3f",
   "metadata": {},
   "outputs": [
    {
     "name": "stdout",
     "output_type": "stream",
     "text": [
      "0\n",
      "5\n"
     ]
    }
   ],
   "source": [
    "it = index_words_iter(address)\n",
    "print(next(it))\n",
    "print(next(it))"
   ]
  },
  {
   "cell_type": "code",
   "execution_count": 4,
   "id": "e857937d",
   "metadata": {},
   "outputs": [
    {
     "name": "stdout",
     "output_type": "stream",
     "text": [
      "[0, 5, 11, 15, 21, 27]\n"
     ]
    }
   ],
   "source": [
    "#you can easily convert the iterator returned by the generator to a list by passing\n",
    "# it to the list built-in function\n",
    "result = list(index_words_iter(address))\n",
    "print(result[:])\n"
   ]
  },
  {
   "cell_type": "markdown",
   "id": "a89273ca",
   "metadata": {},
   "source": [
    "2. The second problem with index_words is that it requires all resluts to be sotred in the list before being returned. For huge inputs, this can cause a program to run out of memory and crash.\n",
    "\n",
    "### A generator version of this function can easily be adapted th take inputs of  arbitrary length due to its bounded memroy requirements."
   ]
  },
  {
   "cell_type": "code",
   "execution_count": 8,
   "id": "496a09e9",
   "metadata": {},
   "outputs": [],
   "source": [
    "def index_file(handle):\n",
    "    offset = 0\n",
    "    for line in handle:\n",
    "        if line:\n",
    "            yield offset\n",
    "        for letter in line:\n",
    "            offset += 1\n",
    "            if letter == ' ':\n",
    "                yield offset\n",
    "                \n"
   ]
  },
  {
   "cell_type": "code",
   "execution_count": 15,
   "id": "2c703d93",
   "metadata": {},
   "outputs": [
    {
     "name": "stdout",
     "output_type": "stream",
     "text": [
      "[0, 5, 11, 16, 20, 26, 29, 34, 38, 42]\n",
      "[47, 51, 56, 63, 70, 76, 80, 87, 90, 96, 100, 108, 112, 118, 119, 122, 129, 134, 138, 146, 151, 160, 163, 167, 171, 176, 179, 181, 188, 193, 197, 205, 209, 213, 219, 227, 232, 233, 243, 250, 253, 258, 262, 266, 271, 275, 282, 285, 289, 293, 298, 302, 307, 312, 319, 322, 330, 334, 341, 346, 350, 351, 358, 362, 366, 371, 376, 380, 387, 390, 394, 399, 402, 406, 413, 416, 424, 430, 434, 445, 449, 456, 461, 465, 468, 469, 474, 479, 489, 493, 498, 501, 506, 512, 516, 523, 526, 532, 537, 544, 547, 549, 553]\n"
     ]
    }
   ],
   "source": [
    "import itertools\n",
    "with open('address.txt', 'r') as f:\n",
    "    it = index_file(f)\n",
    "    #print(list(it))\n",
    "    results = itertools.islice(it, 0, 10)\n",
    "    print(list(results))\n",
    "    print(list(it))\n",
    "    #print(list(it))"
   ]
  },
  {
   "cell_type": "code",
   "execution_count": null,
   "id": "60dfaf28",
   "metadata": {},
   "outputs": [],
   "source": []
  }
 ],
 "metadata": {
  "kernelspec": {
   "display_name": "Python 3 (ipykernel)",
   "language": "python",
   "name": "python3"
  },
  "language_info": {
   "codemirror_mode": {
    "name": "ipython",
    "version": 3
   },
   "file_extension": ".py",
   "mimetype": "text/x-python",
   "name": "python",
   "nbconvert_exporter": "python",
   "pygments_lexer": "ipython3",
   "version": "3.10.4"
  }
 },
 "nbformat": 4,
 "nbformat_minor": 5
}
