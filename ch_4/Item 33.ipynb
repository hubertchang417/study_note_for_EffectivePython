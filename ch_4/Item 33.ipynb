{
 "cells": [
  {
   "cell_type": "code",
   "execution_count": 1,
   "id": "51810aa3",
   "metadata": {},
   "outputs": [
    {
     "name": "stdout",
     "output_type": "stream",
     "text": [
      "Delta:  5.0\n",
      "Delta:  5.0\n",
      "Delta:  5.0\n",
      "Delta:  5.0\n",
      "Delta:  0.0\n",
      "Delta:  0.0\n",
      "Delta:  0.0\n",
      "Delta:  3.0\n",
      "Delta:  3.0\n"
     ]
    }
   ],
   "source": [
    "def move(period, speed):\n",
    "    for _ in range(period):\n",
    "        yield speed\n",
    "\n",
    "def pause(delay):\n",
    "    for _ in range(delay):\n",
    "        yield 0\n",
    "\n",
    "def animate():\n",
    "    for delta in move(4, 5.0):\n",
    "        yield delta\n",
    "    for delta in pause(3):\n",
    "        yield delta\n",
    "    for delta in move(2, 3.0):\n",
    "        yield delta\n",
    "\n",
    "def render(delta):\n",
    "    print(f'Delta: {delta: .1f}')\n",
    "        \n",
    "def run(func):\n",
    "    for delta in func():\n",
    "        render(delta)\n",
    "\n",
    "run(animate)"
   ]
  },
  {
   "cell_type": "markdown",
   "id": "75fd8e19",
   "metadata": {},
   "source": [
    "The problem with this code is the repetitive nature of the animate function. The redundancy of the for statements and yield expressions for each generator adds noise and reduces readaibility.\n",
    "\n",
    "* The solution to this problem is th use the yield from expression. This anvanced generator feature allows you to yield all values from a nested generator before returning control to the parent generator."
   ]
  },
  {
   "cell_type": "code",
   "execution_count": 2,
   "id": "5e3aa61d",
   "metadata": {},
   "outputs": [
    {
     "name": "stdout",
     "output_type": "stream",
     "text": [
      "Delta:  5.0\n",
      "Delta:  5.0\n",
      "Delta:  5.0\n",
      "Delta:  5.0\n",
      "Delta:  0.0\n",
      "Delta:  0.0\n",
      "Delta:  0.0\n",
      "Delta:  3.0\n",
      "Delta:  3.0\n"
     ]
    }
   ],
   "source": [
    "def animate_composed():\n",
    "    yield from move(4, 5.0)\n",
    "    yield from pause(3)\n",
    "    yield from move(2, 3.0)\n",
    "    \n",
    "run(animate_composed)"
   ]
  },
  {
   "cell_type": "markdown",
   "id": "90ec4344",
   "metadata": {},
   "source": [
    "### *yield from* essentially causes the Python interpreter to handle the nested for loop and yield expression boilerplate for you, which results in better performance"
   ]
  },
  {
   "cell_type": "code",
   "execution_count": 3,
   "id": "d57a8836",
   "metadata": {},
   "outputs": [],
   "source": [
    "import timeit"
   ]
  },
  {
   "cell_type": "code",
   "execution_count": 6,
   "id": "4aed7c42",
   "metadata": {},
   "outputs": [
    {
     "name": "stdout",
     "output_type": "stream",
     "text": [
      "Manual nesting 2.98s\n",
      "Composed nesting 2.57s\n",
      "13.9% less time\n"
     ]
    }
   ],
   "source": [
    "def child():\n",
    "    for i in range(1_000_000):\n",
    "        yield i\n",
    "\n",
    "def slow():\n",
    "    for i in child():\n",
    "        yield i\n",
    "def fast():\n",
    "    yield from child()\n",
    "    \n",
    "baseline = timeit.timeit(\n",
    "    stmt='for _ in slow(): pass',\n",
    "    globals=globals(),\n",
    "    number=50)\n",
    "print(f'Manual nesting {baseline:.2f}s')\n",
    "\n",
    "comparison = timeit.timeit(\n",
    "    stmt='for _ in fast(): pass',\n",
    "    globals=globals(),\n",
    "    number=50)\n",
    "print(f'Composed nesting {comparison:.2f}s')\n",
    "\n",
    "reduction = -(comparison - baseline) / baseline\n",
    "print(f'{reduction:.1%} less time')\n",
    "    "
   ]
  },
  {
   "cell_type": "code",
   "execution_count": null,
   "id": "5889068c",
   "metadata": {},
   "outputs": [],
   "source": []
  }
 ],
 "metadata": {
  "kernelspec": {
   "display_name": "Python 3 (ipykernel)",
   "language": "python",
   "name": "python3"
  },
  "language_info": {
   "codemirror_mode": {
    "name": "ipython",
    "version": 3
   },
   "file_extension": ".py",
   "mimetype": "text/x-python",
   "name": "python",
   "nbconvert_exporter": "python",
   "pygments_lexer": "ipython3",
   "version": "3.10.4"
  }
 },
 "nbformat": 4,
 "nbformat_minor": 5
}
