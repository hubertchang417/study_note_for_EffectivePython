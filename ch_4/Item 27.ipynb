{
 "cells": [
  {
   "cell_type": "code",
   "execution_count": 1,
   "id": "962d8976",
   "metadata": {},
   "outputs": [
    {
     "name": "stdout",
     "output_type": "stream",
     "text": [
      "[1, 4, 9, 16, 25, 36, 49, 64, 81, 100]\n"
     ]
    }
   ],
   "source": [
    "#list comprehensions\n",
    "a = [1, 2, 3, 4, 5, 6, 7, 8, 9, 10]\n",
    "squares = []\n",
    "for x in a:\n",
    "    squares.append(x**2)\n",
    "print(squares)\n"
   ]
  },
  {
   "cell_type": "code",
   "execution_count": 2,
   "id": "0e846f49",
   "metadata": {},
   "outputs": [
    {
     "name": "stdout",
     "output_type": "stream",
     "text": [
      "[1, 4, 9, 16, 25, 36, 49, 64, 81, 100]\n"
     ]
    }
   ],
   "source": [
    "#with a list comprehension, it can achieve the same outcome by specifying the expression for the computation\n",
    "squares = [x**2 for x in a] #List comprehension\n",
    "print(squares)"
   ]
  },
  {
   "cell_type": "code",
   "execution_count": 8,
   "id": "61e1afd1",
   "metadata": {},
   "outputs": [
    {
     "name": "stdout",
     "output_type": "stream",
     "text": [
      "[1, 4, 9, 16, 25, 36, 49, 64, 81, 100]\n"
     ]
    }
   ],
   "source": [
    "#list comprehensions are also clearer than the map built-in function for simple cases\n",
    "alt = map(lambda x: x**2, a)\n",
    "print(list(alt))"
   ]
  },
  {
   "cell_type": "markdown",
   "id": "655de43d",
   "metadata": {},
   "source": [
    "Unlike map, list comprehensions let you easily filter items from the input list, removing corresponding outputs from the result."
   ]
  },
  {
   "cell_type": "code",
   "execution_count": 7,
   "id": "2c691c76",
   "metadata": {},
   "outputs": [
    {
     "name": "stdout",
     "output_type": "stream",
     "text": [
      "[4, 16, 36, 64, 100]\n"
     ]
    }
   ],
   "source": [
    "even_squares = [x**2 for x in a if x % 2 == 0]\n",
    "print(even_squares)"
   ]
  },
  {
   "cell_type": "code",
   "execution_count": 9,
   "id": "7b7bd00f",
   "metadata": {},
   "outputs": [],
   "source": [
    "#the filter built-in function can be used along with map to achieve the smae outcome, but it is much harder to read\n",
    "\n",
    "alt = map(lambda x: x**2, filter(lambda x: x%2 ==0, a))\n",
    "assert even_squares == list(alt)"
   ]
  },
  {
   "cell_type": "code",
   "execution_count": 10,
   "id": "2ede07b0",
   "metadata": {},
   "outputs": [
    {
     "name": "stdout",
     "output_type": "stream",
     "text": [
      "{2: 4, 4: 16, 6: 36, 8: 64, 10: 100}\n",
      "{216, 729, 27}\n"
     ]
    }
   ],
   "source": [
    "even_squares_dict = {x: x**2 for x in a if x % 2 == 0}\n",
    "threes_cubed_set = {x**3 for x in a if x % 3 == 0}\n",
    "print(even_squares_dict)\n",
    "print(threes_cubed_set)"
   ]
  },
  {
   "cell_type": "code",
   "execution_count": 11,
   "id": "d3350e76",
   "metadata": {},
   "outputs": [],
   "source": [
    "alt_dict = dict(map(lambda x: (x, x**2),\n",
    "                filter(lambda x: x % 2 == 0, a)))\n",
    "alt_set = set(map(lambda x: x**3,\n",
    "              filter(lambda x: x % 3 == 0, a)))"
   ]
  },
  {
   "cell_type": "code",
   "execution_count": null,
   "id": "adc9940f",
   "metadata": {},
   "outputs": [],
   "source": []
  }
 ],
 "metadata": {
  "kernelspec": {
   "display_name": "Python 3 (ipykernel)",
   "language": "python",
   "name": "python3"
  },
  "language_info": {
   "codemirror_mode": {
    "name": "ipython",
    "version": 3
   },
   "file_extension": ".py",
   "mimetype": "text/x-python",
   "name": "python",
   "nbconvert_exporter": "python",
   "pygments_lexer": "ipython3",
   "version": "3.10.4"
  }
 },
 "nbformat": 4,
 "nbformat_minor": 5
}
