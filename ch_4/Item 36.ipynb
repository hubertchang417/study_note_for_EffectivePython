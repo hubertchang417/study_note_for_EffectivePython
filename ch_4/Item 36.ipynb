{
 "cells": [
  {
   "cell_type": "code",
   "execution_count": 1,
   "id": "e523bcdb",
   "metadata": {},
   "outputs": [],
   "source": [
    "import itertools"
   ]
  },
  {
   "cell_type": "markdown",
   "id": "914b954b",
   "metadata": {},
   "source": [
    "useing help(itertools) can describe the most important functions that you should know in three primary categories."
   ]
  },
  {
   "cell_type": "code",
   "execution_count": 3,
   "id": "eaaa47aa",
   "metadata": {},
   "outputs": [
    {
     "name": "stdout",
     "output_type": "stream",
     "text": [
      "[1, 2, 3, 4, 5, 6]\n"
     ]
    }
   ],
   "source": [
    "#Linking Iterators Together\n",
    "#chain\n",
    "it = itertools.chain([1, 2, 3], [4, 5, 6])\n",
    "print(list(it))"
   ]
  },
  {
   "cell_type": "code",
   "execution_count": 4,
   "id": "30b4c069",
   "metadata": {},
   "outputs": [
    {
     "name": "stdout",
     "output_type": "stream",
     "text": [
      "['hello', 'hello', 'hello']\n"
     ]
    }
   ],
   "source": [
    "#repeat\n",
    "it = itertools.repeat('hello', 3)\n",
    "print(list(it))"
   ]
  },
  {
   "cell_type": "code",
   "execution_count": 5,
   "id": "2a923427",
   "metadata": {},
   "outputs": [
    {
     "name": "stdout",
     "output_type": "stream",
     "text": [
      "[1, 2, 1, 2, 1, 2, 1, 2, 1, 2]\n"
     ]
    }
   ],
   "source": [
    "#cycle\n",
    "it = itertools.cycle([1,2])\n",
    "result = [next(it) for _ in range(10)]\n",
    "print(result)"
   ]
  },
  {
   "cell_type": "code",
   "execution_count": 6,
   "id": "b8c78422",
   "metadata": {},
   "outputs": [
    {
     "name": "stdout",
     "output_type": "stream",
     "text": [
      "first\n",
      "['second']\n",
      "['first', 'second']\n",
      "['first', 'second']\n"
     ]
    }
   ],
   "source": [
    "#tee\n",
    "#use tee to split a single iterator into number of parallel iterators\n",
    "it1, it2, it3 = itertools.tee(['first', 'second'], 3)\n",
    "print(next(it1))\n",
    "print(list(it1))\n",
    "print(list(it2))\n",
    "print(list(it3))"
   ]
  },
  {
   "cell_type": "code",
   "execution_count": 8,
   "id": "fd256266",
   "metadata": {},
   "outputs": [
    {
     "name": "stdout",
     "output_type": "stream",
     "text": [
      "zip:         [('one', 1), ('two', 2)]\n",
      "zip_longest: [('one', 1), ('two', 2), ('three', 'nope')]\n"
     ]
    }
   ],
   "source": [
    "#zip_longest\n",
    "keys = ['one', 'two', 'three']\n",
    "values = [1, 2]\n",
    "\n",
    "normal = list(zip(keys, values))\n",
    "print('zip:        ', normal)\n",
    "\n",
    "it = itertools.zip_longest(key, values, fillvalue='nope')\n",
    "longest = list(it)\n",
    "print('zip_longest:', longest)"
   ]
  },
  {
   "cell_type": "code",
   "execution_count": 10,
   "id": "d3ebb0f1",
   "metadata": {},
   "outputs": [
    {
     "name": "stdout",
     "output_type": "stream",
     "text": [
      "First five:   [1, 2, 3, 4, 5]\n",
      "Middle odds:  [3, 5, 7]\n"
     ]
    }
   ],
   "source": [
    "#Filtering Items form an Iterator\n",
    "#islice\n",
    "\n",
    "values = [n for n in range(1,11)]\n",
    "\n",
    "first_five_it = itertools.islice(values,5)\n",
    "print('First five:  ', list(first_five_it))\n",
    "\n",
    "middle_odds_it = itertools.islice(values, 2, 8, 2)\n",
    "print('Middle odds: ', list(middle_odds_it))"
   ]
  },
  {
   "cell_type": "code",
   "execution_count": 12,
   "id": "57171909",
   "metadata": {},
   "outputs": [
    {
     "name": "stdout",
     "output_type": "stream",
     "text": [
      "[1, 2, 3, 4, 5, 6]\n"
     ]
    }
   ],
   "source": [
    "#takewhile\n",
    "#takewhile returns items from an iterator until a predicate function returns False for an item\n",
    "values = [n for n in range(1,11)]\n",
    "less_than_seven = lambda x: x < 7\n",
    "#print(less_than_seven)\n",
    "it = itertools.takewhile(less_than_seven, values)\n",
    "print(list(it))"
   ]
  },
  {
   "cell_type": "code",
   "execution_count": 13,
   "id": "0dc5fd00",
   "metadata": {},
   "outputs": [
    {
     "name": "stdout",
     "output_type": "stream",
     "text": [
      "[7, 8, 9, 10]\n"
     ]
    }
   ],
   "source": [
    "#dropwhile\n",
    "#dropwhile, which is the opposite of takewhile, skips items from \n",
    "#an iterator until the predicate function returns True for the first time\n",
    "values = [n for n in range(1,11)]\n",
    "less_than_seven = lambda x: x < 7\n",
    "it = itertools.dropwhile(less_than_seven, values)\n",
    "print(list(it))"
   ]
  },
  {
   "cell_type": "code",
   "execution_count": 16,
   "id": "0324d079",
   "metadata": {},
   "outputs": [
    {
     "name": "stdout",
     "output_type": "stream",
     "text": [
      "Filter:       [2, 4, 6, 8, 10]\n",
      "Filter false: [1, 3, 5, 7, 9]\n"
     ]
    }
   ],
   "source": [
    "#filterfalse\n",
    "values = [n for n in range(1,11)]\n",
    "evens = lambda x: x % 2 == 0\n",
    "\n",
    "filter_result = filter(evens, values)\n",
    "print('Filter:      ', list(filter_result))\n",
    "\n",
    "filter_false_result = itertools.filterfalse(evens, values)\n",
    "print('Filter false:', list(filter_false_result))"
   ]
  },
  {
   "cell_type": "code",
   "execution_count": 17,
   "id": "e4b4bf1f",
   "metadata": {},
   "outputs": [
    {
     "name": "stdout",
     "output_type": "stream",
     "text": [
      "Sum:    [1, 3, 6, 10, 15, 21, 28, 36, 45, 55]\n",
      "Modulo: [1, 3, 6, 10, 15, 1, 8, 16, 5, 15]\n"
     ]
    }
   ],
   "source": [
    "#Porducing Combinations of Items form Iterators\n",
    "#accumulate\n",
    "#accumulate folds an item from the iterator into a running value by applying a\n",
    "#function that takes two parameters. It outputs the current accumulated result from each input value\n",
    "values = [n for n in range(1,11)]\n",
    "sum_reduce = itertools.accumulate(values)\n",
    "print('Sum:   ', list(sum_reduce))\n",
    "\n",
    "def sum_modulo_20(first, second):\n",
    "    output = first + second\n",
    "    return output % 20\n",
    "\n",
    "modulo_reduce = itertools.accumulate(values, sum_modulo_20)\n",
    "print('Modulo:', list(modulo_reduce))"
   ]
  },
  {
   "cell_type": "code",
   "execution_count": 19,
   "id": "73b34492",
   "metadata": {},
   "outputs": [
    {
     "name": "stdout",
     "output_type": "stream",
     "text": [
      "Singles:   [(1, 1), (1, 2), (2, 1), (2, 2)]\n",
      "Multiple:  [(1, 'a'), (1, 'b'), (2, 'a'), (2, 'b')]\n"
     ]
    }
   ],
   "source": [
    "#porduct\n",
    "#return the cartesian product of item from one or more iterator\n",
    "\n",
    "single = itertools.product([1, 2], repeat=2)\n",
    "print('Singles:  ', list(single))\n",
    "\n",
    "multiple = itertools.product([1, 2], ['a', 'b'])\n",
    "print('Multiple: ', list(multiple))"
   ]
  },
  {
   "cell_type": "code",
   "execution_count": 20,
   "id": "6d3fdf87",
   "metadata": {},
   "outputs": [
    {
     "name": "stdout",
     "output_type": "stream",
     "text": [
      "[(1, 2), (1, 3), (1, 4), (2, 1), (2, 3), (2, 4), (3, 1), (3, 2), (3, 4), (4, 1), (4, 2), (4, 3)]\n"
     ]
    }
   ],
   "source": [
    "#permutations\n",
    "it = itertools.permutations([1, 2, 3, 4], 2)\n",
    "print(list(it))"
   ]
  },
  {
   "cell_type": "code",
   "execution_count": 21,
   "id": "4c967cb6",
   "metadata": {},
   "outputs": [
    {
     "name": "stdout",
     "output_type": "stream",
     "text": [
      "[(1, 2), (1, 3), (1, 4), (2, 3), (2, 4), (3, 4)]\n"
     ]
    }
   ],
   "source": [
    "#combinations\n",
    "it = itertools.combinations([1, 2, 3, 4], 2)\n",
    "print(list(it))"
   ]
  },
  {
   "cell_type": "code",
   "execution_count": 22,
   "id": "665bf5d6",
   "metadata": {},
   "outputs": [
    {
     "name": "stdout",
     "output_type": "stream",
     "text": [
      "[(1, 1), (1, 2), (1, 3), (1, 4), (2, 2), (2, 3), (2, 4), (3, 3), (3, 4), (4, 4)]\n"
     ]
    }
   ],
   "source": [
    "#combinations_with_replacement\n",
    "#same as combinations, but repeated values are allowed\n",
    "\n",
    "it = itertools.combinations_with_replacement([1, 2, 3, 4], 2)\n",
    "print(list(it))"
   ]
  },
  {
   "cell_type": "code",
   "execution_count": null,
   "id": "975c2ee1",
   "metadata": {},
   "outputs": [],
   "source": []
  }
 ],
 "metadata": {
  "kernelspec": {
   "display_name": "Python 3 (ipykernel)",
   "language": "python",
   "name": "python3"
  },
  "language_info": {
   "codemirror_mode": {
    "name": "ipython",
    "version": 3
   },
   "file_extension": ".py",
   "mimetype": "text/x-python",
   "name": "python",
   "nbconvert_exporter": "python",
   "pygments_lexer": "ipython3",
   "version": "3.10.4"
  }
 },
 "nbformat": 4,
 "nbformat_minor": 5
}
