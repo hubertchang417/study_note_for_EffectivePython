{
 "cells": [
  {
   "cell_type": "markdown",
   "id": "f9df9f93",
   "metadata": {},
   "source": [
    "Aother advanced generator feature is the throw method for re-raising Exception instances within generator functions.\n",
    "\n",
    "* The way throw works is simple: When the method is called, the next occurence of a yield expression re-raises the provided Exception instance after its output is received instead of continuing normally."
   ]
  },
  {
   "cell_type": "code",
   "execution_count": 4,
   "id": "ab1131fb",
   "metadata": {},
   "outputs": [
    {
     "name": "stdout",
     "output_type": "stream",
     "text": [
      "1\n",
      "2\n"
     ]
    },
    {
     "ename": "MyError",
     "evalue": "test error",
     "output_type": "error",
     "traceback": [
      "\u001b[1;31m---------------------------------------------------------------------------\u001b[0m",
      "\u001b[1;31mMyError\u001b[0m                                   Traceback (most recent call last)",
      "Cell \u001b[1;32mIn[4], line 12\u001b[0m\n\u001b[0;32m     10\u001b[0m \u001b[38;5;28mprint\u001b[39m(\u001b[38;5;28mnext\u001b[39m(it)) \u001b[38;5;66;03m#Yield 1\u001b[39;00m\n\u001b[0;32m     11\u001b[0m \u001b[38;5;28mprint\u001b[39m(\u001b[38;5;28mnext\u001b[39m(it)) \u001b[38;5;66;03m#Yield 2\u001b[39;00m\n\u001b[1;32m---> 12\u001b[0m \u001b[38;5;28mprint\u001b[39m(\u001b[43mit\u001b[49m\u001b[38;5;241;43m.\u001b[39;49m\u001b[43mthrow\u001b[49m\u001b[43m(\u001b[49m\u001b[43mMyError\u001b[49m\u001b[43m(\u001b[49m\u001b[38;5;124;43m'\u001b[39;49m\u001b[38;5;124;43mtest error\u001b[39;49m\u001b[38;5;124;43m'\u001b[39;49m\u001b[43m)\u001b[49m\u001b[43m)\u001b[49m)\n",
      "Cell \u001b[1;32mIn[4], line 6\u001b[0m, in \u001b[0;36mmy_generator\u001b[1;34m()\u001b[0m\n\u001b[0;32m      4\u001b[0m \u001b[38;5;28;01mdef\u001b[39;00m \u001b[38;5;21mmy_generator\u001b[39m():\n\u001b[0;32m      5\u001b[0m     \u001b[38;5;28;01myield\u001b[39;00m \u001b[38;5;241m1\u001b[39m\n\u001b[1;32m----> 6\u001b[0m     \u001b[38;5;28;01myield\u001b[39;00m \u001b[38;5;241m2\u001b[39m\n\u001b[0;32m      7\u001b[0m     \u001b[38;5;28;01myield\u001b[39;00m \u001b[38;5;241m3\u001b[39m\n",
      "\u001b[1;31mMyError\u001b[0m: test error"
     ]
    }
   ],
   "source": [
    "class MyError(Exception):\n",
    "    pass\n",
    "\n",
    "def my_generator():\n",
    "    yield 1\n",
    "    yield 2\n",
    "    yield 3\n",
    "    \n",
    "it = my_generator()\n",
    "print(next(it)) #Yield 1\n",
    "print(next(it)) #Yield 2\n",
    "print(it.throw(MyError('test error')))"
   ]
  },
  {
   "cell_type": "markdown",
   "id": "ebdafebc",
   "metadata": {},
   "source": [
    "When you call throw, the generator function may catch the injected exception with a standard try/except compound statement that surrounds the last yield expression that was executed"
   ]
  },
  {
   "cell_type": "code",
   "execution_count": 5,
   "id": "f11e69f2",
   "metadata": {},
   "outputs": [
    {
     "name": "stdout",
     "output_type": "stream",
     "text": [
      "1\n",
      "2\n",
      "Got MyError!\n",
      "4\n"
     ]
    }
   ],
   "source": [
    "def my_generator():\n",
    "    yield 1\n",
    "    try:\n",
    "        yield 2\n",
    "    except MyError:\n",
    "        print('Got MyError!')\n",
    "    else:\n",
    "        yield 3\n",
    "    yield 4\n",
    "    \n",
    "it = my_generator()\n",
    "print(next(it))\n",
    "print(next(it))\n",
    "print(it.throw(MyError('test error')))"
   ]
  },
  {
   "cell_type": "code",
   "execution_count": 18,
   "id": "c422205e",
   "metadata": {},
   "outputs": [
    {
     "name": "stdout",
     "output_type": "stream",
     "text": [
      "3 ticks remaining\n",
      "2 ticks remaining\n",
      "1 ticks remaining\n",
      "3 ticks remaining\n",
      "2 ticks remaining\n",
      "1 ticks remaining\n",
      "3 ticks remaining\n",
      "2 ticks remaining\n",
      "1 ticks remaining\n",
      "3 ticks remaining\n",
      "2 ticks remaining\n",
      "1 ticks remaining\n",
      "0 ticks remaining\n"
     ]
    }
   ],
   "source": [
    "class Reset(Exception):\n",
    "    pass\n",
    "\n",
    "def timer(period):\n",
    "    current = period\n",
    "    while current:\n",
    "        current -= 1\n",
    "        try:\n",
    "            yield current\n",
    "        except Reset:\n",
    "            current = period\n",
    "\n",
    "def check_for_reset(current,timer=[3]):\n",
    "    if current == 1 and timer[0] != 0:\n",
    "        timer[0] -= 1\n",
    "        return True\n",
    "    return False\n",
    "\n",
    "def announce(remaining):\n",
    "    print(f'{remaining} ticks remaining')\n",
    "    \n",
    "def run():\n",
    "    it = timer(4)\n",
    "    current = 99\n",
    "    while True:\n",
    "        try:\n",
    "            if check_for_reset(current):\n",
    "                current = it.throw(Reset())\n",
    "            else:\n",
    "                current = next(it)\n",
    "        except StopIteration:\n",
    "            break\n",
    "        else:\n",
    "            announce(current)\n",
    "run()"
   ]
  },
  {
   "cell_type": "code",
   "execution_count": 20,
   "id": "65f5085d",
   "metadata": {},
   "outputs": [
    {
     "name": "stdout",
     "output_type": "stream",
     "text": [
      "3 ticks remaining\n",
      "2 ticks remaining\n",
      "1 ticks remaining\n",
      "3 ticks remaining\n",
      "2 ticks remaining\n",
      "1 ticks remaining\n",
      "3 ticks remaining\n",
      "2 ticks remaining\n",
      "1 ticks remaining\n",
      "3 ticks remaining\n",
      "2 ticks remaining\n",
      "1 ticks remaining\n",
      "0 ticks remaining\n"
     ]
    }
   ],
   "source": [
    "#A simpler approach to implementing htis functionality is to define a stateful closure\n",
    "#using an iterable container object\n",
    "class Timer:\n",
    "    def __init__(self, period):\n",
    "        self.current = period\n",
    "        self.period = period\n",
    "    \n",
    "    def reset(self):\n",
    "        self.current = self.period\n",
    "    \n",
    "    def __iter__(self):\n",
    "        while self.current:\n",
    "            self.current -= 1\n",
    "            yield self.current\n",
    "\n",
    "def check_for_reset(current,timer=[3]):\n",
    "    if current == 1 and timer[0] != 0:\n",
    "        timer[0] -= 1\n",
    "        return True\n",
    "    return False\n",
    "\n",
    "def run():\n",
    "    timer = Timer(4)\n",
    "    for current in timer:\n",
    "        if check_for_reset(current):\n",
    "            timer.reset()\n",
    "        announce(current)\n",
    "        \n",
    "run()"
   ]
  },
  {
   "cell_type": "code",
   "execution_count": null,
   "id": "5a52364e",
   "metadata": {},
   "outputs": [],
   "source": []
  }
 ],
 "metadata": {
  "kernelspec": {
   "display_name": "Python 3 (ipykernel)",
   "language": "python",
   "name": "python3"
  },
  "language_info": {
   "codemirror_mode": {
    "name": "ipython",
    "version": 3
   },
   "file_extension": ".py",
   "mimetype": "text/x-python",
   "name": "python",
   "nbconvert_exporter": "python",
   "pygments_lexer": "ipython3",
   "version": "3.10.4"
  },
  "vscode": {
   "interpreter": {
    "hash": "a4268dadad3b4055368b5af9c9e53fa40ef61caf5cc8dfa7a47549880133c9ec"
   }
  }
 },
 "nbformat": 4,
 "nbformat_minor": 5
}
