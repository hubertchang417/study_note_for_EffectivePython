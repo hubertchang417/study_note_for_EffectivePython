{
 "cells": [
  {
   "cell_type": "code",
   "execution_count": 1,
   "id": "58702e32",
   "metadata": {},
   "outputs": [
    {
     "name": "stdout",
     "output_type": "stream",
     "text": [
      "[1, 2, 3, 4, 5, 6, 7, 8, 9]\n"
     ]
    }
   ],
   "source": [
    "#comprehensions support multiple levels of looping\n",
    "matrix = [[1, 2, 3], [4, 5, 6], [7, 8, 9]]\n",
    "flat = [x for row in matrix for x in row]\n",
    "print(flat)"
   ]
  },
  {
   "cell_type": "code",
   "execution_count": 2,
   "id": "6e1a0ad3",
   "metadata": {},
   "outputs": [
    {
     "name": "stdout",
     "output_type": "stream",
     "text": [
      "[[1, 4, 9], [16, 25, 36], [49, 64, 81]]\n"
     ]
    }
   ],
   "source": [
    "squared = [[x**2 for x in row] for row in matrix]\n",
    "print(squared)"
   ]
  },
  {
   "cell_type": "markdown",
   "id": "bfe10d4c",
   "metadata": {},
   "source": [
    "### the multiline comprehension isn't much shorter than the alternative"
   ]
  },
  {
   "cell_type": "code",
   "execution_count": 3,
   "id": "1b996e59",
   "metadata": {},
   "outputs": [
    {
     "name": "stdout",
     "output_type": "stream",
     "text": [
      "[6, 8, 10]\n",
      "[6, 8, 10]\n"
     ]
    }
   ],
   "source": [
    "#comprehensions support multiple if conditions. Multiple conditions\n",
    "# at the same loop level have an implicit and expression.\n",
    "a = [n for n in range(1, 11)]\n",
    "b = [x for x in a if x > 4 if x % 2 ==0]\n",
    "c = [x for x in a if x > 4 and x % 2 ==0]\n",
    "print(b)\n",
    "print(c)"
   ]
  },
  {
   "cell_type": "code",
   "execution_count": 5,
   "id": "02ebb70c",
   "metadata": {},
   "outputs": [
    {
     "name": "stdout",
     "output_type": "stream",
     "text": [
      "matrix: [[1, 2, 3], [4, 5, 6], [7, 8, 9]]\n",
      "[[6], [9]]\n"
     ]
    }
   ],
   "source": [
    "#conditions can be specified at each level of looping after the for\n",
    "# subexpression\n",
    "matrix = [[(n + l * 3) for n in range(1,4)] for l in range(3)]\n",
    "print(f'matrix: {matrix}')\n",
    "filtered = [[x for x in row if x % 3 ==0]\n",
    "            for row in matrix if sum(row) >= 10]\n",
    "print(filtered)"
   ]
  },
  {
   "cell_type": "code",
   "execution_count": null,
   "id": "2a502dc3",
   "metadata": {},
   "outputs": [],
   "source": []
  }
 ],
 "metadata": {
  "kernelspec": {
   "display_name": "Python 3 (ipykernel)",
   "language": "python",
   "name": "python3"
  },
  "language_info": {
   "codemirror_mode": {
    "name": "ipython",
    "version": 3
   },
   "file_extension": ".py",
   "mimetype": "text/x-python",
   "name": "python",
   "nbconvert_exporter": "python",
   "pygments_lexer": "ipython3",
   "version": "3.10.4"
  }
 },
 "nbformat": 4,
 "nbformat_minor": 5
}
