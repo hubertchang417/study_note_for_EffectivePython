{
 "cells": [
  {
   "cell_type": "markdown",
   "id": "4e726217",
   "metadata": {},
   "source": [
    "# Two types sequences of character data: **bytes** and **str**\n",
    "\n",
    "## bytes: raw, unsigned 8-bit values"
   ]
  },
  {
   "cell_type": "code",
   "execution_count": 3,
   "id": "e7b402f9",
   "metadata": {},
   "outputs": [
    {
     "name": "stdout",
     "output_type": "stream",
     "text": [
      "[104, 101, 108, 108, 111]\n",
      "b'hello'\n",
      "b'hello'\n"
     ]
    }
   ],
   "source": [
    "a = b'h\\x65llo'\n",
    "print(list(a))\n",
    "print(a)\n",
    "print(repr(a))"
   ]
  },
  {
   "cell_type": "markdown",
   "id": "95558313",
   "metadata": {},
   "source": [
    "## str: Unicode code points that represent tuxual characters form human langes"
   ]
  },
  {
   "cell_type": "code",
   "execution_count": 4,
   "id": "0b08c3a8",
   "metadata": {},
   "outputs": [
    {
     "name": "stdout",
     "output_type": "stream",
     "text": [
      "['a', '̀', ' ', 'p', 'r', 'o', 'p', 'o', 's']\n",
      "à propos\n",
      "'à propos'\n"
     ]
    }
   ],
   "source": [
    "a = 'a\\u0300 propos'\n",
    "print(list(a))\n",
    "print(a)\n",
    "print(repr(a))"
   ]
  },
  {
   "cell_type": "markdown",
   "id": "b242d924",
   "metadata": {},
   "source": [
    "## *str* instances don't have an associate binary encoding, and *bytes* instances don't have an associated text encoding.\n",
    "\n",
    "* To convert Unicode data to binary data, you must call **encode method** of *str*\n",
    "* To convert binary data to Unicode data, you must call **decode method** of *bytes*"
   ]
  },
  {
   "cell_type": "code",
   "execution_count": 5,
   "id": "068637cb",
   "metadata": {},
   "outputs": [
    {
     "name": "stdout",
     "output_type": "stream",
     "text": [
      "b'foo'\n",
      "b'foo'\n",
      "'foo'\n",
      "*******************************************************************************\n",
      "bar\n",
      "'bar'\n",
      "'bar'\n"
     ]
    }
   ],
   "source": [
    "# helper function to convert these type data\n",
    "def to_str(sequences_data):\n",
    "    if isinstance(sequences_data, bytes):\n",
    "        res = sequences_data.decode('utf-8')\n",
    "    else:\n",
    "        res = sequences_data\n",
    "    return res\n",
    "\n",
    "\n",
    "test1 = b'foo'\n",
    "test2 = 'bar'\n",
    "print(test1)\n",
    "print(repr(test1))\n",
    "print(repr(to_str(test1)))\n",
    "print(\"*\"*79)\n",
    "print(test2)\n",
    "print(repr(test2))\n",
    "print(repr(to_str(test2)))"
   ]
  },
  {
   "cell_type": "code",
   "execution_count": 6,
   "id": "2758ee1c",
   "metadata": {},
   "outputs": [
    {
     "name": "stdout",
     "output_type": "stream",
     "text": [
      "b'foo'\n",
      "b'foo'\n",
      "b'foo'\n",
      "*******************************************************************************\n",
      "bar\n",
      "'bar'\n",
      "b'bar'\n"
     ]
    }
   ],
   "source": [
    "# helper function to convert these type data\n",
    "def to_bytes(sequences_data):\n",
    "    if isinstance(sequences_data, str):\n",
    "        res = sequences_data.encode('utf-8')\n",
    "    else:\n",
    "        res = sequences_data\n",
    "    return res\n",
    "\n",
    "\n",
    "test1 = b'foo'\n",
    "test2 = 'bar'\n",
    "print(test1)\n",
    "print(repr(test1))\n",
    "print(repr(to_bytes(test1)))\n",
    "print(\"*\"*79)\n",
    "print(test2)\n",
    "print(repr(test2))\n",
    "print(repr(to_bytes(test2)))"
   ]
  },
  {
   "cell_type": "code",
   "execution_count": 7,
   "id": "473b23f1",
   "metadata": {},
   "outputs": [
    {
     "name": "stdout",
     "output_type": "stream",
     "text": [
      "b'onetow'\n",
      "onetwo\n"
     ]
    }
   ],
   "source": [
    "print(b'one' + b'tow')\n",
    "print('one' + 'two')"
   ]
  },
  {
   "cell_type": "code",
   "execution_count": 8,
   "id": "e8b7007e",
   "metadata": {},
   "outputs": [
    {
     "ename": "TypeError",
     "evalue": "can't concat str to bytes",
     "output_type": "error",
     "traceback": [
      "\u001b[1;31m---------------------------------------------------------------------------\u001b[0m",
      "\u001b[1;31mTypeError\u001b[0m                                 Traceback (most recent call last)",
      "\u001b[1;32m~\\AppData\\Local\\Temp\\ipykernel_9696\\362882834.py\u001b[0m in \u001b[0;36m<module>\u001b[1;34m\u001b[0m\n\u001b[1;32m----> 1\u001b[1;33m \u001b[0mprint\u001b[0m\u001b[1;33m(\u001b[0m\u001b[1;34mb'one'\u001b[0m \u001b[1;33m+\u001b[0m \u001b[1;34m'two'\u001b[0m\u001b[1;33m)\u001b[0m\u001b[1;33m\u001b[0m\u001b[1;33m\u001b[0m\u001b[0m\n\u001b[0m",
      "\u001b[1;31mTypeError\u001b[0m: can't concat str to bytes"
     ]
    }
   ],
   "source": [
    "print(b'one' + 'two')"
   ]
  },
  {
   "cell_type": "code",
   "execution_count": null,
   "id": "89c89fc3",
   "metadata": {},
   "outputs": [],
   "source": []
  }
 ],
 "metadata": {
  "kernelspec": {
   "display_name": "Python 3 (ipykernel)",
   "language": "python",
   "name": "python3"
  },
  "language_info": {
   "codemirror_mode": {
    "name": "ipython",
    "version": 3
   },
   "file_extension": ".py",
   "mimetype": "text/x-python",
   "name": "python",
   "nbconvert_exporter": "python",
   "pygments_lexer": "ipython3",
   "version": "3.7.13"
  }
 },
 "nbformat": 4,
 "nbformat_minor": 5
}
