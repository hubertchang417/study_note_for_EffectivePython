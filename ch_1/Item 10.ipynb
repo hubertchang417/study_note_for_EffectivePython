{
 "cells": [
  {
   "cell_type": "markdown",
   "id": "fd015647",
   "metadata": {},
   "source": [
    "## *walrus operator* is a new syntax introduced in Python 3.8 to solve a long-standing problem with the language that can cause code duplication"
   ]
  },
  {
   "cell_type": "code",
   "execution_count": 5,
   "id": "a8de2151",
   "metadata": {},
   "outputs": [],
   "source": [
    "fresh_fruit = {\n",
    "    'apple': 10,\n",
    "    'banana': 8,\n",
    "    'lemon': 5\n",
    "}\n",
    "\n",
    "def make_lemonade(count):\n",
    "    pass\n",
    "\n",
    "def out_of_stock():\n",
    "    pass\n",
    "\n",
    "count = fresh_fruit.get('lemon', 0)\n",
    "if count:\n",
    "    make_lemonade(count)\n",
    "else:\n",
    "    out_of_stock()"
   ]
  },
  {
   "cell_type": "markdown",
   "id": "492e089c",
   "metadata": {},
   "source": [
    "The porbolem with this seemingly simple code is taht it's noisier than it needs to be. The count variable is used only within the first block of the if statement. Defining count above the if statement causes it to appare to be more important than it really is, as if all code that follows, including the else block, will need to access the count variable, when in fact that is not the case."
   ]
  },
  {
   "cell_type": "code",
   "execution_count": 6,
   "id": "ca5ab139",
   "metadata": {},
   "outputs": [],
   "source": [
    "#use walrus \n",
    "\n",
    "if count:=fresh_fruit.get('lemon', 0):\n",
    "    make_lemonade(count)\n",
    "else:\n",
    "    out_of_stock()"
   ]
  },
  {
   "cell_type": "code",
   "execution_count": 7,
   "id": "3b1deb9c",
   "metadata": {},
   "outputs": [],
   "source": [
    "#another example\n",
    "def make_cider(count):\n",
    "    pass\n",
    "\n",
    "count = fresh_fruit.get('apple', 0)\n",
    "if count >= 4:\n",
    "    make_cider(count)\n",
    "else:\n",
    "    out_of_stock()\n",
    "#with walrus\n",
    "if (count := fresh_fruit.get('apple', 0)) >= 4:\n",
    "    make_cider(count)\n",
    "else:\n",
    "    out_of_stock()"
   ]
  },
  {
   "cell_type": "code",
   "execution_count": 10,
   "id": "69242023",
   "metadata": {},
   "outputs": [],
   "source": [
    "def slice_bananas(count):\n",
    "    pass\n",
    "\n",
    "def make_smoothies(count):\n",
    "    pass\n",
    "\n",
    "#example switch/case statement\n",
    "count = fresh_fruit.get('banana', 0)\n",
    "if count >= 2:\n",
    "    pieces = slice_bananas(count)\n",
    "    to_enjoy = make_smoothies(pieces)\n",
    "else:\n",
    "    count = fresh_fruit.get('apple', 0)\n",
    "    if count >= 4:\n",
    "        to_enjoy = make_cider(count)\n",
    "    else:\n",
    "        count = fresh_fruit.get('lemon', 0)\n",
    "        if count:\n",
    "            to_enjoy = make_lemonade(count)\n",
    "        else:\n",
    "            to_enjoy = 'Nothing'\n",
    "#with walrus\n",
    "if (count := fresh_fruit.get('banana', 0)) >= 2:\n",
    "    pieces = slice_bananas(count)\n",
    "    to_enjoy = make_smoothies(pieces)\n",
    "elif (count := fresh_fruit.get('apple', 0)) >= 4:\n",
    "    to_enjoy = make_cider(count)\n",
    "elif count := fresh_fruit.get('lemon', 0):\n",
    "    to_enjoy = make_lemonade(count)\n",
    "else:\n",
    "    to_enjoy = 'Nothing'"
   ]
  },
  {
   "cell_type": "code",
   "execution_count": null,
   "id": "69a4a3b5",
   "metadata": {},
   "outputs": [],
   "source": []
  }
 ],
 "metadata": {
  "kernelspec": {
   "display_name": "Python 3 (ipykernel)",
   "language": "python",
   "name": "python3"
  },
  "language_info": {
   "codemirror_mode": {
    "name": "ipython",
    "version": 3
   },
   "file_extension": ".py",
   "mimetype": "text/x-python",
   "name": "python",
   "nbconvert_exporter": "python",
   "pygments_lexer": "ipython3",
   "version": "3.10.4"
  }
 },
 "nbformat": 4,
 "nbformat_minor": 5
}
