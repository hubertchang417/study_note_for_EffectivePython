{
 "cells": [
  {
   "cell_type": "markdown",
   "id": "55a91279",
   "metadata": {},
   "source": [
    "# C-style"
   ]
  },
  {
   "cell_type": "code",
   "execution_count": 1,
   "id": "c1a4363a",
   "metadata": {},
   "outputs": [
    {
     "name": "stdout",
     "output_type": "stream",
     "text": [
      "Binary is 187, hex is 3167\n"
     ]
    }
   ],
   "source": [
    "a = 0b10111011\n",
    "b = 0xc5f\n",
    "print('Binary is %d, hex is %d' % (a,b))"
   ]
  },
  {
   "cell_type": "code",
   "execution_count": 2,
   "id": "4eeda62e",
   "metadata": {},
   "outputs": [
    {
     "name": "stdout",
     "output_type": "stream",
     "text": [
      "my_var     = 1.23\n"
     ]
    }
   ],
   "source": [
    "key = 'my_var'\n",
    "value = 1.234\n",
    "formatted = '%-10s = %.2f' % (key,value)\n",
    "print(formatted)"
   ]
  },
  {
   "cell_type": "code",
   "execution_count": 3,
   "id": "e3cd5a2b",
   "metadata": {},
   "outputs": [
    {
     "ename": "TypeError",
     "evalue": "must be real number, not str",
     "output_type": "error",
     "traceback": [
      "\u001b[1;31m---------------------------------------------------------------------------\u001b[0m",
      "\u001b[1;31mTypeError\u001b[0m                                 Traceback (most recent call last)",
      "\u001b[1;32m~\\AppData\\Local\\Temp\\ipykernel_4148\\2535450841.py\u001b[0m in \u001b[0;36m<module>\u001b[1;34m\u001b[0m\n\u001b[1;32m----> 1\u001b[1;33m \u001b[0mwrong_exp\u001b[0m \u001b[1;33m=\u001b[0m \u001b[1;34m'%-10s = %.2f'\u001b[0m \u001b[1;33m%\u001b[0m \u001b[1;33m(\u001b[0m\u001b[0mvalue\u001b[0m\u001b[1;33m,\u001b[0m\u001b[0mkey\u001b[0m\u001b[1;33m)\u001b[0m\u001b[1;33m\u001b[0m\u001b[1;33m\u001b[0m\u001b[0m\n\u001b[0m\u001b[0;32m      2\u001b[0m \u001b[0mprint\u001b[0m\u001b[1;33m(\u001b[0m\u001b[0mwrong_exp\u001b[0m\u001b[1;33m)\u001b[0m\u001b[1;33m\u001b[0m\u001b[1;33m\u001b[0m\u001b[0m\n",
      "\u001b[1;31mTypeError\u001b[0m: must be real number, not str"
     ]
    }
   ],
   "source": [
    "wrong_exp = '%-10s = %.2f' % (value,key)\n",
    "print(wrong_exp)"
   ]
  },
  {
   "cell_type": "code",
   "execution_count": 4,
   "id": "b165d98f",
   "metadata": {},
   "outputs": [
    {
     "name": "stdout",
     "output_type": "stream",
     "text": [
      "No.0: avocados   = 1.25\n",
      "No.1: bananas    = 2.50\n",
      "No.2: cherries   = 15.00\n"
     ]
    }
   ],
   "source": [
    "pantry = [\n",
    "    ('avocados', 1.25),\n",
    "    ('bananas', 2.5),\n",
    "    ('cherries', 15)\n",
    "]\n",
    "\n",
    "for i, (item, count) in enumerate(pantry):\n",
    "    print('No.%d: %-10s = %.2f' % (i, item, count))"
   ]
  },
  {
   "cell_type": "code",
   "execution_count": 5,
   "id": "801dfb7b",
   "metadata": {},
   "outputs": [
    {
     "name": "stdout",
     "output_type": "stream",
     "text": [
      "No.1: Avocados   = 1.00\n",
      "No.2: Bananas    = 2.00\n",
      "No.3: Cherries   = 15.00\n"
     ]
    }
   ],
   "source": [
    "for i, (item, count) in enumerate(pantry):\n",
    "    print('No.%d: %-10s = %.2f' % (\n",
    "        i + 1,\n",
    "        item.title(),\n",
    "        round(count)))"
   ]
  },
  {
   "cell_type": "code",
   "execution_count": 6,
   "id": "49714d6f",
   "metadata": {},
   "outputs": [
    {
     "name": "stdout",
     "output_type": "stream",
     "text": [
      "Max loves food. See Max cook.\n"
     ]
    }
   ],
   "source": [
    "#same value in format string multiple times\n",
    "template = '%s loves food. See %s cook.'\n",
    "name = 'Max'\n",
    "formatted = template % (name, name)\n",
    "print(formatted)"
   ]
  },
  {
   "cell_type": "code",
   "execution_count": 7,
   "id": "fe3e6808",
   "metadata": {},
   "outputs": [],
   "source": [
    "#solution: do formatting with a dictionary instead of tuple\n",
    "key = 'my_var'\n",
    "value = 1.234\n",
    "\n",
    "old_fashion = '%-10s = %.2f' %(key, value)\n",
    "new_way = '%(key)-10s = %(value).2f' %{\n",
    "    'key': key, \n",
    "    'value': value} \n",
    "reordered_new_way = '%(key)-10s = %(value).2f' %{\n",
    "    'value': value,\n",
    "    'key': key} # been reordered\n",
    "\n",
    "assert old_fashion == new_way == reordered_new_way"
   ]
  },
  {
   "cell_type": "code",
   "execution_count": null,
   "id": "932adc2b",
   "metadata": {},
   "outputs": [],
   "source": []
  }
 ],
 "metadata": {
  "kernelspec": {
   "display_name": "Python 3 (ipykernel)",
   "language": "python",
   "name": "python3"
  },
  "language_info": {
   "codemirror_mode": {
    "name": "ipython",
    "version": 3
   },
   "file_extension": ".py",
   "mimetype": "text/x-python",
   "name": "python",
   "nbconvert_exporter": "python",
   "pygments_lexer": "ipython3",
   "version": "3.7.13"
  }
 },
 "nbformat": 4,
 "nbformat_minor": 5
}
