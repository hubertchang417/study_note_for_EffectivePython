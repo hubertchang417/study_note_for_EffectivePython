{
 "cells": [
  {
   "cell_type": "markdown",
   "id": "49da76fa",
   "metadata": {},
   "source": [
    "# <span style=\"color:blue\">White Space</span>\n",
    "\n",
    "* Use spaces instead of tabs for indentation. \n",
    "* Use four spaces for each level of syntactically significant indenting.  \n",
    "* Lines should be 79 characters in length or less. \n",
    "* Continuations of long expressions onto additional lines should  be indented by four extra spaces from their normal indentation  level. \n",
    "* In a file, functions and classes should be separated by two blank  lines. \n",
    "* In a class, methods should be separated by one blank line. \n",
    "* In a dictionary, put no whitespace between each key and colon,  and put a single space before the corresponding value if it fits on  the same line. \n",
    "* Put one—and only one—space before and after the = operator in a  variable assignment. \n",
    "* For type annotations, ensure that there is no separation between  the variable name and the colon, and use a space before the type  information."
   ]
  },
  {
   "cell_type": "code",
   "execution_count": null,
   "id": "28f45d25",
   "metadata": {},
   "outputs": [],
   "source": [
    "# Use spaces instead of tabs for indentation.\n",
    "# Use four spaces for each level of syntactically significant indenting.  \n",
    "for i in range(10):\n",
    "    print(i)    \n",
    "# Lines should be 79 characters in length or less. \n",
    "# Continuations of long expressions onto additional lines should  be indented by four extra spaces from their normal indentation  level. \n",
    "# In a file, functions and classes should be separated by two blank  lines. \n",
    "def func1():\n",
    "    pass\n",
    " # Line 1\n",
    " # Line 2\n",
    "def func2():\n",
    "    pass\n",
    "# In a class, methods should be separated by one blank line. \n",
    "class methods1:\n",
    "    def func1():\n",
    "        pass\n",
    "    # Line 1\n",
    "    def func2():\n",
    "        pass\n",
    "# In a dictionary, put no whitespace between each key and colon,  and put a single space before the corresponding value if it fits on  the same line. \n",
    "dict_test = {\"key\": \"value\",\n",
    "             \"Key1\": \"value1\"}\n",
    "# Put one—and only one—space before and after the = operator in a  variable assignment. \n",
    "a = b\n",
    "# For type annotations, ensure that there is no separation between  the variable name and the colon, and use a space before the type  information."
   ]
  },
  {
   "cell_type": "markdown",
   "id": "89893f22",
   "metadata": {},
   "source": [
    "# <span style=\"color:blue\">Nameing</span>\n",
    "* Functions, variables, and attributes should be in lowercase_ underscore format. \n",
    "* Protected instance attributes should be in _leading_underscore format. \n",
    "* Private instance attributes should be in __double_leading_ underscore format. \n",
    "* Classes (including exceptions) should be in CapitalizedWord format. \n",
    "* Module-level constants should be in ALL_CAPS format. \n",
    "* Instance methods in classes should use self, which refers to the  object, as the name of the first parameter. \n",
    "* Class methods should use cls, which refers to the class, as the  name of the first parameter. "
   ]
  },
  {
   "cell_type": "code",
   "execution_count": null,
   "id": "9e3cd917",
   "metadata": {},
   "outputs": [],
   "source": [
    "# Functions, variables, and attributes should be in lowercase_ underscore format. \n",
    "def my_func():\n",
    "    pass\n",
    "\n",
    "my_attr = 1\n",
    "# Protected instance attributes should be in _leading_underscore format. \n",
    "_proteced_val = 1\n",
    "# Private instance attributes should be in __double_leading_ underscore format. \n",
    "__private_val = 1\n",
    "# Classes (including exceptions) should be in CapitalizedWord format. \n",
    "class Myclass:\n",
    "# Module-level constants should be in ALL_CAPS format. \n",
    "# Instance methods in classes should use self, which refers to the  object, as the name of the first parameter. \n",
    "# Class methods should use cls, which refers to the class, as the  name of the first parameter. "
   ]
  },
  {
   "cell_type": "markdown",
   "id": "063edcb8",
   "metadata": {},
   "source": [
    "## reference\n",
    "* Effective Python\n",
    "* https://swf.com.tw/?p=1229"
   ]
  },
  {
   "cell_type": "code",
   "execution_count": null,
   "id": "19c03dd9",
   "metadata": {},
   "outputs": [],
   "source": []
  }
 ],
 "metadata": {
  "kernelspec": {
   "display_name": "Python 3 (ipykernel)",
   "language": "python",
   "name": "python3"
  },
  "language_info": {
   "codemirror_mode": {
    "name": "ipython",
    "version": 3
   },
   "file_extension": ".py",
   "mimetype": "text/x-python",
   "name": "python",
   "nbconvert_exporter": "python",
   "pygments_lexer": "ipython3",
   "version": "3.7.13"
  }
 },
 "nbformat": 4,
 "nbformat_minor": 5
}
