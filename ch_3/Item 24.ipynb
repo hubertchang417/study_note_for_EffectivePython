{
 "cells": [
  {
   "cell_type": "code",
   "execution_count": 1,
   "id": "766f63a5",
   "metadata": {},
   "outputs": [
    {
     "name": "stdout",
     "output_type": "stream",
     "text": [
      "2022-12-19 14:57:10.036019: Hi there!\n",
      "2022-12-19 14:57:10.036019: Hello again!\n"
     ]
    }
   ],
   "source": [
    "from time import sleep\n",
    "from datetime import datetime\n",
    "\n",
    "def log(message, when=datetime.now()):\n",
    "    print(f'{when}: {message}')\n",
    "\n",
    "log('Hi there!')\n",
    "sleep(0.1)\n",
    "log('Hello again!')"
   ]
  },
  {
   "cell_type": "markdown",
   "id": "032d05b1",
   "metadata": {},
   "source": [
    "### This doesn't work as expected. The timestamps are the same because datetime.now is executed only a single time: when the function is defined."
   ]
  },
  {
   "cell_type": "code",
   "execution_count": 2,
   "id": "93865fd9",
   "metadata": {},
   "outputs": [
    {
     "name": "stdout",
     "output_type": "stream",
     "text": [
      "2022-12-19 15:02:47.349556: Hi there!\n",
      "2022-12-19 15:02:47.452537: Hello again!\n"
     ]
    }
   ],
   "source": [
    "#The conventiona forachieving the desired result in Python is to provide a default value of None\n",
    "# and to  document the actual behavior in the docstring. When your code sees the argument value None, \n",
    "# you allocate the default value accrodingly\n",
    "\n",
    "def log(message, when=None):\n",
    "    if when is None:\n",
    "        when = datetime.now()\n",
    "    print(f'{when}: {message}')\n",
    "\n",
    "log('Hi there!')\n",
    "sleep(0.1)\n",
    "log('Hello again!')"
   ]
  },
  {
   "cell_type": "markdown",
   "id": "884ae01e",
   "metadata": {},
   "source": [
    "Using None for default argument values is especially important when the arguments are mutable."
   ]
  },
  {
   "cell_type": "code",
   "execution_count": 4,
   "id": "2ba08ccf",
   "metadata": {},
   "outputs": [],
   "source": [
    "import json\n",
    "\n",
    "def decode(data, default={}):\n",
    "    try:\n",
    "        return json.loads(data)\n",
    "    except ValueError:\n",
    "        return default"
   ]
  },
  {
   "cell_type": "markdown",
   "id": "ba9c2261",
   "metadata": {},
   "source": [
    "The problem here is the same as in the datetime.now example above.\n",
    "The dictionary specified for default will be shared by all calls to decode because default argument values are evaluated only once(at module load time). This can cause extremely surprising behavior"
   ]
  },
  {
   "cell_type": "code",
   "execution_count": 5,
   "id": "7a9d6855",
   "metadata": {},
   "outputs": [
    {
     "name": "stdout",
     "output_type": "stream",
     "text": [
      "Foo: {'stuff': 5}\n",
      "Foo: {'stuff': 5, 'meep': 1}\n",
      "Bar: {'stuff': 5, 'meep': 1}\n"
     ]
    }
   ],
   "source": [
    "foo = decode('bad datat')\n",
    "foo['stuff'] = 5\n",
    "print('Foo:', foo)\n",
    "bar = decode('also bad')\n",
    "bar['meep'] = 1\n",
    "print('Foo:', foo)\n",
    "print('Bar:', bar)"
   ]
  },
  {
   "cell_type": "code",
   "execution_count": 6,
   "id": "fcf5326b",
   "metadata": {},
   "outputs": [],
   "source": [
    "assert foo is bar"
   ]
  },
  {
   "cell_type": "code",
   "execution_count": 7,
   "id": "347ff028",
   "metadata": {},
   "outputs": [
    {
     "name": "stdout",
     "output_type": "stream",
     "text": [
      "Foo: {'stuff': 5}\n",
      "Bar: {'meep': 1}\n"
     ]
    }
   ],
   "source": [
    "# The fix is to set the keyword argument default value to None and then document the behavior in the function's docstring\n",
    "\n",
    "def decode(data, default=None):\n",
    "    try:\n",
    "        return json.loads(data)\n",
    "    except ValueError:\n",
    "        if default is None:\n",
    "            default = {}\n",
    "        return default\n",
    "\n",
    "foo = decode('bad datat')\n",
    "foo['stuff'] = 5\n",
    "bar = decode('also bad')\n",
    "bar['meep'] = 1\n",
    "print('Foo:', foo)\n",
    "print('Bar:', bar)\n",
    "assert foo is not bar"
   ]
  },
  {
   "cell_type": "markdown",
   "id": "271f5df1",
   "metadata": {},
   "source": [
    "This approach also works with type annotations. Here, the when argument is marked as having an Optional value that is a datetime. Thus, the only two valid choices for when are None or datetime object"
   ]
  },
  {
   "cell_type": "code",
   "execution_count": 8,
   "id": "22113f5a",
   "metadata": {},
   "outputs": [],
   "source": [
    "from typing import Optional\n",
    "\n",
    "def log_typed(message: str,\n",
    "              when: Optional[datetime]=None) -> None :\n",
    "    if when is None:\n",
    "        when = datetiem.now()\n",
    "    print(f'{when}: {message}')"
   ]
  },
  {
   "cell_type": "code",
   "execution_count": null,
   "id": "af19c700",
   "metadata": {},
   "outputs": [],
   "source": []
  }
 ],
 "metadata": {
  "kernelspec": {
   "display_name": "Python 3 (ipykernel)",
   "language": "python",
   "name": "python3"
  },
  "language_info": {
   "codemirror_mode": {
    "name": "ipython",
    "version": 3
   },
   "file_extension": ".py",
   "mimetype": "text/x-python",
   "name": "python",
   "nbconvert_exporter": "python",
   "pygments_lexer": "ipython3",
   "version": "3.10.4"
  }
 },
 "nbformat": 4,
 "nbformat_minor": 5
}
