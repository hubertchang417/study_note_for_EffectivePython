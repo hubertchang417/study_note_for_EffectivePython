{
 "cells": [
  {
   "cell_type": "code",
   "execution_count": 1,
   "id": "3147b9c7",
   "metadata": {},
   "outputs": [
    {
     "name": "stdout",
     "output_type": "stream",
     "text": [
      "[2, 3, 5, 7, 1, 4, 6, 8]\n"
     ]
    }
   ],
   "source": [
    "def sort_priority(values, group):\n",
    "    def helper(x):\n",
    "        if x in group:\n",
    "            return (0, x)\n",
    "        return (1, x)\n",
    "    values.sort(key=helper)\n",
    "\n",
    "numbers = [8, 3, 1, 2, 5, 4, 7, 6]\n",
    "group = {2, 3, 5, 7}\n",
    "sort_priority(numbers, group)\n",
    "print(numbers)"
   ]
  },
  {
   "cell_type": "code",
   "execution_count": 4,
   "id": "8401c397",
   "metadata": {},
   "outputs": [
    {
     "name": "stdout",
     "output_type": "stream",
     "text": [
      "Found: False\n",
      "[2, 3, 5, 7, 1, 4, 6, 8]\n"
     ]
    }
   ],
   "source": [
    "def sort_priority2(values, group):\n",
    "    found = False   #Scope: 'Sort_priority2'\n",
    "    def helper(x):\n",
    "        if x in group:\n",
    "            found = True #Scope: 'helper'\n",
    "            return (0, x)\n",
    "        return (1, x)\n",
    "    values.sort(key=helper)\n",
    "    return found\n",
    "\n",
    "found = sort_priority2(numbers, group)\n",
    "print('Found:', found)                \n",
    "print(numbers)"
   ]
  },
  {
   "cell_type": "markdown",
   "id": "7c799f60",
   "metadata": {},
   "source": [
    "* items form group were found in numbers.\n",
    "* the found result returned by the function is False when it should be True.\n",
    "\n",
    "### when you reference a variable in an expression, the python interpreter traverses the scope to resolve the reference in this order:\n",
    "1. The current function's scope.\n",
    "2. Any enclosing scopes (such as other containing functions).\n",
    "3. The scope of the module that contains the code (alse called the global scope).\n",
    "4. The built-in scope (that contains functions like len and str)."
   ]
  },
  {
   "cell_type": "markdown",
   "id": "a3055859",
   "metadata": {},
   "source": [
    "### In python, the *nonlocal* statement is used to indicate that scope traversal should happen upon assignment for a specific variable name. The only limit is that nonlocal won't traverse up to the module-level scope"
   ]
  },
  {
   "cell_type": "code",
   "execution_count": 7,
   "id": "e68ba721",
   "metadata": {},
   "outputs": [
    {
     "name": "stdout",
     "output_type": "stream",
     "text": [
      "Found: True\n",
      "[2, 3, 5, 7, 1, 4, 6, 8]\n"
     ]
    }
   ],
   "source": [
    "def sort_priority3(values, group):\n",
    "    found = False   \n",
    "    def helper(x):\n",
    "        nonlocal found  #Added\n",
    "        if x in group:\n",
    "            found = True \n",
    "            return (0, x)\n",
    "        return (1, x)\n",
    "    values.sort(key=helper)\n",
    "    return found\n",
    "found = sort_priority3(numbers, group)\n",
    "print('Found:', found)                \n",
    "print(numbers)"
   ]
  },
  {
   "cell_type": "markdown",
   "id": "51299e95",
   "metadata": {},
   "source": [
    "it is hard to understand in long functioins where the nonlocal statements and assignments to associated variables are far apart.\n",
    "\n",
    "### when your usage of nonlocal starts getting complicated, its's better wrap your state in a helper class"
   ]
  },
  {
   "cell_type": "code",
   "execution_count": 8,
   "id": "8fc967bf",
   "metadata": {},
   "outputs": [],
   "source": [
    "class Sorter:\n",
    "    def __init__(self, group):\n",
    "        self.group = group\n",
    "        self.found = False\n",
    "    \n",
    "    def __call__(self, x):\n",
    "        if x in self.group:\n",
    "            self.found = True\n",
    "            return (0, x)\n",
    "        return (1, x)\n",
    "\n",
    "sorter = Sorter(group)\n",
    "numbers.sort(key=sorter)\n",
    "assert sorter.found is True\n"
   ]
  },
  {
   "cell_type": "code",
   "execution_count": null,
   "id": "753979ab",
   "metadata": {},
   "outputs": [],
   "source": []
  }
 ],
 "metadata": {
  "kernelspec": {
   "display_name": "Python 3 (ipykernel)",
   "language": "python",
   "name": "python3"
  },
  "language_info": {
   "codemirror_mode": {
    "name": "ipython",
    "version": 3
   },
   "file_extension": ".py",
   "mimetype": "text/x-python",
   "name": "python",
   "nbconvert_exporter": "python",
   "pygments_lexer": "ipython3",
   "version": "3.10.4"
  }
 },
 "nbformat": 4,
 "nbformat_minor": 5
}
