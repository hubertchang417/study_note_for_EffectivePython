{
 "cells": [
  {
   "cell_type": "markdown",
   "id": "d40ab261",
   "metadata": {},
   "source": [
    "### Python has special syntax for decorators that can be applied to functions. A decorator has the ability to run additional code before and  after each call to a function it wraps. This means decorators can access and modify input arguments, return values, and raised exceptions."
   ]
  },
  {
   "cell_type": "code",
   "execution_count": 7,
   "id": "4d498f7f",
   "metadata": {},
   "outputs": [],
   "source": [
    "def trace(func):\n",
    "    def wrapper(*args, **kwargs):\n",
    "        result = func(*args, **kwargs)\n",
    "        print(f'{func.__name__}({args!r}, {kwargs!r})) '\n",
    "              f'-> {result!r}')\n",
    "        return result\n",
    "    return wrapper\n",
    "\n",
    "#can apply this decorator to a function by using the @ symbol\n",
    "@trace\n",
    "def fibonacci(n):\n",
    "    if n in (0, 1):\n",
    "        return n\n",
    "    return (fibonacci(n-2) +fibonacci(n-1))"
   ]
  },
  {
   "cell_type": "markdown",
   "id": "3030fd89",
   "metadata": {},
   "source": [
    "Using the @ symbol is equivalent to calling the dicorator on the function it wraps and assigning the return value to the original name in the same scopr:\n",
    "fibonacci = trace(fibonacci)"
   ]
  },
  {
   "cell_type": "code",
   "execution_count": 8,
   "id": "6adce770",
   "metadata": {},
   "outputs": [
    {
     "name": "stdout",
     "output_type": "stream",
     "text": [
      "fibonacci((0,), {})) -> 0\n",
      "fibonacci((1,), {})) -> 1\n",
      "fibonacci((2,), {})) -> 1\n",
      "fibonacci((1,), {})) -> 1\n",
      "fibonacci((0,), {})) -> 0\n",
      "fibonacci((1,), {})) -> 1\n",
      "fibonacci((2,), {})) -> 1\n",
      "fibonacci((3,), {})) -> 2\n",
      "fibonacci((4,), {})) -> 3\n"
     ]
    },
    {
     "data": {
      "text/plain": [
       "3"
      ]
     },
     "execution_count": 8,
     "metadata": {},
     "output_type": "execute_result"
    }
   ],
   "source": [
    "fibonacci(4)"
   ]
  },
  {
   "cell_type": "code",
   "execution_count": 9,
   "id": "bfd16e1c",
   "metadata": {},
   "outputs": [
    {
     "name": "stdout",
     "output_type": "stream",
     "text": [
      "<function trace.<locals>.wrapper at 0x0000025060F58A60>\n"
     ]
    }
   ],
   "source": [
    "#This works well, but it has an unintended side effct. The value returned by the \n",
    "# decorator-the function that's called above-doesn'y think it's named fibonacci\n",
    "print(fibonacci)"
   ]
  },
  {
   "cell_type": "markdown",
   "id": "9c9a5ebb",
   "metadata": {},
   "source": [
    "### The solution is to use the wraps helper function from the functools built-in module. This is a decorator that helps you write decorators. When  you apply it to the wrapper function, it copies all of the important metadata about the inner function to the outer function"
   ]
  },
  {
   "cell_type": "code",
   "execution_count": 10,
   "id": "87166ed6",
   "metadata": {},
   "outputs": [
    {
     "name": "stdout",
     "output_type": "stream",
     "text": [
      "Help on function fibonacci in module __main__:\n",
      "\n",
      "fibonacci(n)\n",
      "\n"
     ]
    }
   ],
   "source": [
    "from functools import wraps\n",
    "\n",
    "def trace(func):\n",
    "    @wraps(func)\n",
    "    def wrapper(*args, **kwargs):\n",
    "        result = func(*args, **kwargs)\n",
    "        print(f'{func.__name__}({args!r}, {kwargs!r})) '\n",
    "              f'-> {result!r}')\n",
    "        return result\n",
    "    return wrapper   \n",
    "\n",
    "@trace\n",
    "def fibonacci(n):\n",
    "    if n in (0, 1):\n",
    "        return n\n",
    "    return (fibonacci(n-2) +fibonacci(n-1))\n",
    "\n",
    "help(fibonacci)"
   ]
  },
  {
   "cell_type": "code",
   "execution_count": null,
   "id": "38faae4c",
   "metadata": {},
   "outputs": [],
   "source": []
  }
 ],
 "metadata": {
  "kernelspec": {
   "display_name": "Python 3 (ipykernel)",
   "language": "python",
   "name": "python3"
  },
  "language_info": {
   "codemirror_mode": {
    "name": "ipython",
    "version": 3
   },
   "file_extension": ".py",
   "mimetype": "text/x-python",
   "name": "python",
   "nbconvert_exporter": "python",
   "pygments_lexer": "ipython3",
   "version": "3.10.4"
  }
 },
 "nbformat": 4,
 "nbformat_minor": 5
}
