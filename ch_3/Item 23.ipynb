{
 "cells": [
  {
   "cell_type": "code",
   "execution_count": 1,
   "id": "64478056",
   "metadata": {},
   "outputs": [],
   "source": [
    "#you may pass arguments by position when calling a function\n",
    "def remainder(number, divisor):\n",
    "    return number % divisor\n",
    "\n",
    "assert remainder(20, 7) == 6"
   ]
  },
  {
   "cell_type": "markdown",
   "id": "20c7937f",
   "metadata": {},
   "source": [
    "### All normal arguments to Python functions can also be apssed by keyword, where the name of the argument is used in an assignment within the parentheses of a function call\n",
    "\n"
   ]
  },
  {
   "cell_type": "code",
   "execution_count": 2,
   "id": "34e55a67",
   "metadata": {},
   "outputs": [
    {
     "data": {
      "text/plain": [
       "6"
      ]
     },
     "execution_count": 2,
     "metadata": {},
     "output_type": "execute_result"
    }
   ],
   "source": [
    "remainder(20, 7)\n",
    "remainder(20, divisor=7)\n",
    "remainder(number=20, divisor=7)\n",
    "remainder(divisor=7, number=20)"
   ]
  },
  {
   "cell_type": "code",
   "execution_count": 3,
   "id": "2e0f9ccc",
   "metadata": {},
   "outputs": [
    {
     "ename": "SyntaxError",
     "evalue": "positional argument follows keyword argument (1302034930.py, line 1)",
     "output_type": "error",
     "traceback": [
      "\u001b[1;36m  Cell \u001b[1;32mIn[3], line 1\u001b[1;36m\u001b[0m\n\u001b[1;33m    remainder(number=20, 7)\u001b[0m\n\u001b[1;37m                          ^\u001b[0m\n\u001b[1;31mSyntaxError\u001b[0m\u001b[1;31m:\u001b[0m positional argument follows keyword argument\n"
     ]
    }
   ],
   "source": [
    "# Positional arguments must be specified before keyword arguments\n",
    "remainder(number=20, 7)"
   ]
  },
  {
   "cell_type": "code",
   "execution_count": 4,
   "id": "dacc3b5a",
   "metadata": {},
   "outputs": [
    {
     "ename": "TypeError",
     "evalue": "remainder() got multiple values for argument 'number'",
     "output_type": "error",
     "traceback": [
      "\u001b[1;31m---------------------------------------------------------------------------\u001b[0m",
      "\u001b[1;31mTypeError\u001b[0m                                 Traceback (most recent call last)",
      "Cell \u001b[1;32mIn[4], line 2\u001b[0m\n\u001b[0;32m      1\u001b[0m \u001b[38;5;66;03m#Each argument can be specified only once\u001b[39;00m\n\u001b[1;32m----> 2\u001b[0m \u001b[43mremainder\u001b[49m\u001b[43m(\u001b[49m\u001b[38;5;241;43m20\u001b[39;49m\u001b[43m,\u001b[49m\u001b[43m \u001b[49m\u001b[43mnumber\u001b[49m\u001b[38;5;241;43m=\u001b[39;49m\u001b[38;5;241;43m7\u001b[39;49m\u001b[43m)\u001b[49m\n",
      "\u001b[1;31mTypeError\u001b[0m: remainder() got multiple values for argument 'number'"
     ]
    }
   ],
   "source": [
    "#Each argument can be specified only once\n",
    "remainder(20, number=7)"
   ]
  },
  {
   "cell_type": "markdown",
   "id": "7c5169e5",
   "metadata": {},
   "source": [
    "### If you already have a dictionary, and you want to use its contents to call a function like remainder, you can do this by using the ** operator. This instructs Python to pass the values from the dictionary as the corresponding keyword arguments of the function "
   ]
  },
  {
   "cell_type": "code",
   "execution_count": 5,
   "id": "80ca065b",
   "metadata": {},
   "outputs": [],
   "source": [
    "my_kwargs = {\n",
    "    'number': 20,\n",
    "    'divisor': 7\n",
    "}\n",
    "\n",
    "assert remainder(**my_kwargs)==6"
   ]
  },
  {
   "cell_type": "code",
   "execution_count": 6,
   "id": "3e7363bd",
   "metadata": {},
   "outputs": [],
   "source": [
    "#You can mix the ** operator with positional arguments or keyword arguments in the\n",
    "# function call, as long as no argument is repeated\n",
    "my_kwargs = {\n",
    "    'divisor': 7\n",
    "}\n",
    "assert remainder(number=20, **my_kwargs) == 6"
   ]
  },
  {
   "cell_type": "code",
   "execution_count": 7,
   "id": "e964157b",
   "metadata": {},
   "outputs": [],
   "source": [
    "# You can also use the ** operator multiple times if you\n",
    "# know that the dictionaries don't contain overlapping keys\n",
    "my_kwargs = {\n",
    "    'number': 20\n",
    "}\n",
    "\n",
    "other_kwargs = {\n",
    "    'divisor': 7\n",
    "}\n",
    "\n",
    "assert remainder(**my_kwargs, **other_kwargs) == 6"
   ]
  },
  {
   "cell_type": "code",
   "execution_count": 8,
   "id": "5e1dfe56",
   "metadata": {},
   "outputs": [
    {
     "name": "stdout",
     "output_type": "stream",
     "text": [
      "alpha = 1.5\n",
      "beat = 9\n",
      "gamma = 4\n"
     ]
    }
   ],
   "source": [
    "# you can use the **kwargs catch-all parameter to collect those arguments into a dict \n",
    "# that you can then process\n",
    "\n",
    "def print_parameters(**kwargs):\n",
    "    for key, value in kwargs.items():\n",
    "        print(f'{key} = {value}')\n",
    "\n",
    "print_parameters(alpha=1.5, beat=9, gamma=4)"
   ]
  }
 ],
 "metadata": {
  "kernelspec": {
   "display_name": "Python 3 (ipykernel)",
   "language": "python",
   "name": "python3"
  },
  "language_info": {
   "codemirror_mode": {
    "name": "ipython",
    "version": 3
   },
   "file_extension": ".py",
   "mimetype": "text/x-python",
   "name": "python",
   "nbconvert_exporter": "python",
   "pygments_lexer": "ipython3",
   "version": "3.10.4"
  }
 },
 "nbformat": 4,
 "nbformat_minor": 5
}
