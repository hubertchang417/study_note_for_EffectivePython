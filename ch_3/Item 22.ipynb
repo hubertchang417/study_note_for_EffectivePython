{
 "cells": [
  {
   "cell_type": "code",
   "execution_count": 1,
   "id": "10281ace",
   "metadata": {},
   "outputs": [
    {
     "name": "stdout",
     "output_type": "stream",
     "text": [
      "My numbers are: 1, 2\n",
      "Hi there\n"
     ]
    }
   ],
   "source": [
    "def log(message, values):\n",
    "    if not values:\n",
    "        print(message)\n",
    "    else:\n",
    "        values_str = ', '.join(str(x) for x in values)\n",
    "        print(f'{message}: {values_str}')\n",
    "\n",
    "log('My numbers are', [1, 2])\n",
    "log('Hi there', [])"
   ]
  },
  {
   "cell_type": "code",
   "execution_count": 2,
   "id": "d8e0ba50",
   "metadata": {},
   "outputs": [
    {
     "name": "stdout",
     "output_type": "stream",
     "text": [
      "My numbers are: 1, 2\n",
      "Hi there\n"
     ]
    }
   ],
   "source": [
    "# It'd be better to leave out the second argument entirely. In Python, it can prefix t-\n",
    "#he last positional parameter name with *.\n",
    "def log(message, *values):  #the only difference\n",
    "    if not values:\n",
    "        print(message)\n",
    "    else:\n",
    "        values_str = ', '.join(str(x) for x in values)\n",
    "        print(f'{message}: {values_str}')\n",
    "\n",
    "log('My numbers are', 1, 2)\n",
    "log('Hi there')"
   ]
  },
  {
   "cell_type": "markdown",
   "id": "6a0d2357",
   "metadata": {},
   "source": [
    "If i already have a sequence (like a list) and want to call variadic function like log, I can do this by using the * operator. This instructs Python to pass items from the dequence as positional arguments to the function"
   ]
  },
  {
   "cell_type": "code",
   "execution_count": 3,
   "id": "432ee0ba",
   "metadata": {},
   "outputs": [
    {
     "name": "stdout",
     "output_type": "stream",
     "text": [
      "Favorite colors: 3, 33, 333\n"
     ]
    }
   ],
   "source": [
    "favorites = [3 , 33, 333]\n",
    "log('Favorite colors', *favorites)"
   ]
  },
  {
   "cell_type": "markdown",
   "id": "9127fbf0",
   "metadata": {},
   "source": [
    "## There are two problems with accepting a variable number of positional arguments\n",
    "1. these optional positional arguments are always turned into a tuple before they are passed to a function.(This means that if the caller of a function uses the * operator on a generator, it will be interated until it's exhausted)"
   ]
  },
  {
   "cell_type": "code",
   "execution_count": 4,
   "id": "eda8c398",
   "metadata": {},
   "outputs": [
    {
     "name": "stdout",
     "output_type": "stream",
     "text": [
      "<generator object my_generator at 0x0000028912D30BA0>\n",
      "(0, 1, 2, 3, 4, 5, 6, 7, 8, 9)\n"
     ]
    }
   ],
   "source": [
    "#the resulting tuple includes every value from the generator, which could consume a lot of memory and cause the program to crash\n",
    "\n",
    "def my_generator():\n",
    "    for i in range(10):\n",
    "        yield i\n",
    "\n",
    "def my_func(*args):\n",
    "    print(args)\n",
    "\n",
    "it = my_generator()\n",
    "print(it)\n",
    "my_func(*it)"
   ]
  },
  {
   "cell_type": "markdown",
   "id": "9d511a0d",
   "metadata": {},
   "source": [
    "2. you can't add new positional arguments to a function in the future without migrating every caller.(If you try to add a positional argumernt in the front of the argument list, existing caller will subtly break if they aren't updated)"
   ]
  },
  {
   "cell_type": "code",
   "execution_count": 5,
   "id": "12f5af35",
   "metadata": {},
   "outputs": [
    {
     "name": "stdout",
     "output_type": "stream",
     "text": [
      "1 - Favorites: 7, 33\n",
      "1 - Hi there\n",
      "Favorite numbers - 7: 33\n"
     ]
    }
   ],
   "source": [
    "def log(sequence, message, *values):\n",
    "    if not values:\n",
    "        print(f'{sequence} - {message}')\n",
    "    else:\n",
    "        values_str = ', '.join(str(x) for x in values)\n",
    "        print(f'{sequence} - {message}: {values_str}')\n",
    "        \n",
    "log(1, 'Favorites', 7, 33)     #New with *args OK\n",
    "log(1, 'Hi there')             #New message only OK\n",
    "log('Favorite numbers', 7, 33) #Old usage breaks"
   ]
  },
  {
   "cell_type": "code",
   "execution_count": null,
   "id": "aa30289c",
   "metadata": {},
   "outputs": [],
   "source": []
  }
 ],
 "metadata": {
  "kernelspec": {
   "display_name": "Python 3 (ipykernel)",
   "language": "python",
   "name": "python3"
  },
  "language_info": {
   "codemirror_mode": {
    "name": "ipython",
    "version": 3
   },
   "file_extension": ".py",
   "mimetype": "text/x-python",
   "name": "python",
   "nbconvert_exporter": "python",
   "pygments_lexer": "ipython3",
   "version": "3.10.4"
  }
 },
 "nbformat": 4,
 "nbformat_minor": 5
}
