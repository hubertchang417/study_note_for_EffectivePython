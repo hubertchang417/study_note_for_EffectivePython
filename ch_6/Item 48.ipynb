{
 "cells": [
  {
   "cell_type": "markdown",
   "id": "67d12a7a",
   "metadata": {},
   "source": [
    "A metaclass is defined by inheriting from type. In the default case, a metaclass receives the contents of associated class statements in its new method. Here, I can inspect and modify the class information before the type is actually consturcted"
   ]
  },
  {
   "cell_type": "code",
   "execution_count": 13,
   "id": "81cc6f17",
   "metadata": {},
   "outputs": [
    {
     "name": "stdout",
     "output_type": "stream",
     "text": [
      "* Running <class '__main__.Meta'>.__new__ for MyClass\n",
      "Bases: ()\n",
      "{'__module__': '__main__', '__qualname__': 'MyClass', 'stuff': 123, 'foo': <function MyClass.foo at 0x000002B0C915BC70>}\n",
      "* Running <class '__main__.Meta'>.__new__ for MySubclass\n",
      "Bases: (<class '__main__.MyClass'>,)\n",
      "{'__module__': '__main__', '__qualname__': 'MySubclass', 'other': 567, 'bar': <function MySubclass.bar at 0x000002B0C7472C20>}\n"
     ]
    }
   ],
   "source": [
    "class Meta(type):\n",
    "    def __new__(meta, name, bases, class_dict):\n",
    "        print(f'* Running {meta}.__new__ for {name}')\n",
    "        print('Bases:', bases)\n",
    "        print(class_dict)\n",
    "        return type.__new__(meta, name, bases, class_dict)\n",
    "    \n",
    "    \n",
    "class MyClass(metaclass=Meta):\n",
    "    stuff = 123\n",
    "    \n",
    "    def foo(self):\n",
    "        pass\n",
    "    \n",
    "class MySubclass(MyClass):\n",
    "    other = 567\n",
    "    \n",
    "    def bar(self):\n",
    "        pass"
   ]
  },
  {
   "cell_type": "markdown",
   "id": "08cf85f7",
   "metadata": {},
   "source": [
    "It can add functionality to the Meta.__new__ method in order to validate all of the parameters of an associated class before it's defined"
   ]
  },
  {
   "cell_type": "code",
   "execution_count": 6,
   "id": "ec4b3fc3",
   "metadata": {},
   "outputs": [],
   "source": [
    "class ValidatePolygon(type):\n",
    "    def __new__(meta, name, bases, class_dict):\n",
    "        #only validate subclasses of the Polygon class\n",
    "        if bases:\n",
    "            if class_dict['sides'] < 3:\n",
    "                raise ValueError('Polygons need 3+ sides')\n",
    "        return type.__new__(meta, name, bases, class_dict)\n",
    "    \n",
    "    \n",
    "class Polygon(metaclass=ValidatePolygon):\n",
    "    sides = None #must be specified by subclass\n",
    "    \n",
    "    @classmethod\n",
    "    def interior_angles(cls):\n",
    "        return (cls.sides - 2) * 180\n",
    "    \n",
    "    \n",
    "class Triangle(Polygon):\n",
    "    sides = 3\n",
    "    \n",
    "\n",
    "class Rectangle(Polygon):\n",
    "    sides = 4\n",
    "    \n",
    "\n",
    "class Nonagon(Polygon):\n",
    "    sides = 9\n",
    "    \n",
    "    \n",
    "assert Triangle.interior_angles() == 180\n",
    "assert Rectangle.interior_angles() == 360\n",
    "assert Nonagon.interior_angles() == 1260\n"
   ]
  },
  {
   "cell_type": "code",
   "execution_count": 7,
   "id": "5f2d57a0",
   "metadata": {},
   "outputs": [
    {
     "name": "stdout",
     "output_type": "stream",
     "text": [
      "Before class\n",
      "Before sides\n",
      "After sides\n"
     ]
    },
    {
     "ename": "ValueError",
     "evalue": "Polygons need 3+ sides",
     "output_type": "error",
     "traceback": [
      "\u001b[1;31m---------------------------------------------------------------------------\u001b[0m",
      "\u001b[1;31mValueError\u001b[0m                                Traceback (most recent call last)",
      "Cell \u001b[1;32mIn[7], line 3\u001b[0m\n\u001b[0;32m      1\u001b[0m \u001b[38;5;28mprint\u001b[39m(\u001b[38;5;124m'\u001b[39m\u001b[38;5;124mBefore class\u001b[39m\u001b[38;5;124m'\u001b[39m)\n\u001b[1;32m----> 3\u001b[0m \u001b[38;5;28;01mclass\u001b[39;00m \u001b[38;5;21;01mLine\u001b[39;00m(Polygon):\n\u001b[0;32m      4\u001b[0m     \u001b[38;5;28mprint\u001b[39m(\u001b[38;5;124m'\u001b[39m\u001b[38;5;124mBefore sides\u001b[39m\u001b[38;5;124m'\u001b[39m)\n\u001b[0;32m      5\u001b[0m     sides\u001b[38;5;241m=\u001b[39m  \u001b[38;5;241m2\u001b[39m\n",
      "Cell \u001b[1;32mIn[6], line 6\u001b[0m, in \u001b[0;36mValidatePolygon.__new__\u001b[1;34m(meta, name, bases, class_dict)\u001b[0m\n\u001b[0;32m      4\u001b[0m \u001b[38;5;28;01mif\u001b[39;00m bases:\n\u001b[0;32m      5\u001b[0m     \u001b[38;5;28;01mif\u001b[39;00m class_dict[\u001b[38;5;124m'\u001b[39m\u001b[38;5;124msides\u001b[39m\u001b[38;5;124m'\u001b[39m] \u001b[38;5;241m<\u001b[39m \u001b[38;5;241m3\u001b[39m:\n\u001b[1;32m----> 6\u001b[0m         \u001b[38;5;28;01mraise\u001b[39;00m \u001b[38;5;167;01mValueError\u001b[39;00m(\u001b[38;5;124m'\u001b[39m\u001b[38;5;124mPolygons need 3+ sides\u001b[39m\u001b[38;5;124m'\u001b[39m)\n\u001b[0;32m      7\u001b[0m \u001b[38;5;28;01mreturn\u001b[39;00m \u001b[38;5;28mtype\u001b[39m\u001b[38;5;241m.\u001b[39m\u001b[38;5;21m__new__\u001b[39m(meta, name, bases, class_dict)\n",
      "\u001b[1;31mValueError\u001b[0m: Polygons need 3+ sides"
     ]
    }
   ],
   "source": [
    "print('Before class')\n",
    "\n",
    "class Line(Polygon):\n",
    "    print('Before sides')\n",
    "    sides=  2\n",
    "    print('After sides')\n",
    "    \n",
    "print('After class')"
   ]
  },
  {
   "cell_type": "markdown",
   "id": "17a5eb63",
   "metadata": {},
   "source": [
    "Python 3.6 intorduced simplified syntax -- the\\_\\_init\\_subclass\\_\\_ special class method -- for achieving the same behavior while avoiding metaclasses entirely"
   ]
  },
  {
   "cell_type": "code",
   "execution_count": 8,
   "id": "025b9789",
   "metadata": {},
   "outputs": [],
   "source": [
    "class BetterPolygon:\n",
    "    sides = None  # Must be specified by subclasses\n",
    "    \n",
    "    def __init_subclass__(cls):\n",
    "        super().__init_subclass__()\n",
    "        if cls.sides < 3:\n",
    "            raise ValueError('Polygons need 3+ sides')\n",
    "            \n",
    "    @classmethod\n",
    "    def interior_angles(cls):\n",
    "        return (cls.sides - 2) * 180\n",
    "    \n",
    "    \n",
    "class Hexagon(BetterPolygon):\n",
    "    sides = 6\n",
    "    \n",
    "assert Hexagon.interior_angles() == 720"
   ]
  },
  {
   "cell_type": "code",
   "execution_count": 9,
   "id": "02e337f2",
   "metadata": {},
   "outputs": [
    {
     "name": "stdout",
     "output_type": "stream",
     "text": [
      "Before class\n",
      "Before sides\n",
      "After sides\n"
     ]
    },
    {
     "ename": "ValueError",
     "evalue": "Polygons need 3+ sides",
     "output_type": "error",
     "traceback": [
      "\u001b[1;31m---------------------------------------------------------------------------\u001b[0m",
      "\u001b[1;31mValueError\u001b[0m                                Traceback (most recent call last)",
      "Cell \u001b[1;32mIn[9], line 3\u001b[0m\n\u001b[0;32m      1\u001b[0m \u001b[38;5;28mprint\u001b[39m(\u001b[38;5;124m'\u001b[39m\u001b[38;5;124mBefore class\u001b[39m\u001b[38;5;124m'\u001b[39m)\n\u001b[1;32m----> 3\u001b[0m \u001b[38;5;28;01mclass\u001b[39;00m \u001b[38;5;21;01mpoint\u001b[39;00m(Polygon):\n\u001b[0;32m      4\u001b[0m     \u001b[38;5;28mprint\u001b[39m(\u001b[38;5;124m'\u001b[39m\u001b[38;5;124mBefore sides\u001b[39m\u001b[38;5;124m'\u001b[39m)\n\u001b[0;32m      5\u001b[0m     sides\u001b[38;5;241m=\u001b[39m  \u001b[38;5;241m1\u001b[39m\n",
      "Cell \u001b[1;32mIn[6], line 6\u001b[0m, in \u001b[0;36mValidatePolygon.__new__\u001b[1;34m(meta, name, bases, class_dict)\u001b[0m\n\u001b[0;32m      4\u001b[0m \u001b[38;5;28;01mif\u001b[39;00m bases:\n\u001b[0;32m      5\u001b[0m     \u001b[38;5;28;01mif\u001b[39;00m class_dict[\u001b[38;5;124m'\u001b[39m\u001b[38;5;124msides\u001b[39m\u001b[38;5;124m'\u001b[39m] \u001b[38;5;241m<\u001b[39m \u001b[38;5;241m3\u001b[39m:\n\u001b[1;32m----> 6\u001b[0m         \u001b[38;5;28;01mraise\u001b[39;00m \u001b[38;5;167;01mValueError\u001b[39;00m(\u001b[38;5;124m'\u001b[39m\u001b[38;5;124mPolygons need 3+ sides\u001b[39m\u001b[38;5;124m'\u001b[39m)\n\u001b[0;32m      7\u001b[0m \u001b[38;5;28;01mreturn\u001b[39;00m \u001b[38;5;28mtype\u001b[39m\u001b[38;5;241m.\u001b[39m\u001b[38;5;21m__new__\u001b[39m(meta, name, bases, class_dict)\n",
      "\u001b[1;31mValueError\u001b[0m: Polygons need 3+ sides"
     ]
    }
   ],
   "source": [
    "print('Before class')\n",
    "\n",
    "class point(Polygon):\n",
    "    print('Before sides')\n",
    "    sides=  1\n",
    "    print('After sides')\n",
    "    \n",
    "print('After class')"
   ]
  },
  {
   "cell_type": "markdown",
   "id": "265a719d",
   "metadata": {},
   "source": [
    "Another problem with the standard Python metaclass machinery ia that you can only specify a single metaclass per class definition."
   ]
  },
  {
   "cell_type": "code",
   "execution_count": 10,
   "id": "f5977f05",
   "metadata": {},
   "outputs": [
    {
     "ename": "TypeError",
     "evalue": "metaclass conflict: the metaclass of a derived class must be a (non-strict) subclass of the metaclasses of all its bases",
     "output_type": "error",
     "traceback": [
      "\u001b[1;31m---------------------------------------------------------------------------\u001b[0m",
      "\u001b[1;31mTypeError\u001b[0m                                 Traceback (most recent call last)",
      "Cell \u001b[1;32mIn[10], line 13\u001b[0m\n\u001b[0;32m     10\u001b[0m \u001b[38;5;28;01mclass\u001b[39;00m \u001b[38;5;21;01mFilled\u001b[39;00m(metaclass\u001b[38;5;241m=\u001b[39mValidateFilled):\n\u001b[0;32m     11\u001b[0m     color \u001b[38;5;241m=\u001b[39m \u001b[38;5;28;01mNone\u001b[39;00m \u001b[38;5;66;03m# must be specified by subclasses\u001b[39;00m\n\u001b[1;32m---> 13\u001b[0m \u001b[38;5;28;01mclass\u001b[39;00m \u001b[38;5;21;01mRedPentagon\u001b[39;00m(Filled, Polygon):\n\u001b[0;32m     14\u001b[0m     color \u001b[38;5;241m=\u001b[39m \u001b[38;5;124m'\u001b[39m\u001b[38;5;124mred\u001b[39m\u001b[38;5;124m'\u001b[39m\n\u001b[0;32m     15\u001b[0m     sides \u001b[38;5;241m=\u001b[39m \u001b[38;5;241m5\u001b[39m\n",
      "\u001b[1;31mTypeError\u001b[0m: metaclass conflict: the metaclass of a derived class must be a (non-strict) subclass of the metaclasses of all its bases"
     ]
    }
   ],
   "source": [
    "class ValidateFilled(type):\n",
    "    def __new__(meta, name, bases, class_dict):\n",
    "        #only validate subclasses of the filled class\n",
    "        if bases:\n",
    "            if class_dict['color'] not in ('red', 'green'):\n",
    "                raise ValueError('Fill color must be supported')\n",
    "        return type.__new__(meta, name, bases, class_dict)\n",
    "    \n",
    "    \n",
    "class Filled(metaclass=ValidateFilled):\n",
    "    color = None # must be specified by subclasses\n",
    "    \n",
    "class RedPentagon(Filled, Polygon):\n",
    "    color = 'red'\n",
    "    sides = 5"
   ]
  },
  {
   "cell_type": "code",
   "execution_count": 25,
   "id": "f292de46",
   "metadata": {},
   "outputs": [
    {
     "name": "stdout",
     "output_type": "stream",
     "text": [
      "in ValidateFilledPolygon * Running <class '__main__.ValidateFilledPolygon'>.__new__ for FilledPolygon\n",
      "in ValidatePolygon * Running <class '__main__.ValidateFilledPolygon'>.__new__ for FilledPolygon\n",
      "{'__module__': '__main__', '__qualname__': 'FilledPolygon', 'is_root': True, 'color': None, 'sides': None}\n",
      "in ValidateFilledPolygon * Running <class '__main__.ValidateFilledPolygon'>.__new__ for GreenPentagon\n",
      "in ValidatePolygon * Running <class '__main__.ValidateFilledPolygon'>.__new__ for GreenPentagon\n",
      "{'__module__': '__main__', '__qualname__': 'GreenPentagon', 'color': 'green', 'sides': 5}\n"
     ]
    }
   ],
   "source": [
    "#it's possible to fix this by creating a complex hierarchy of metaclass type definitions to layer validation\n",
    "class ValidatePolygon(type):\n",
    "    def __new__(meta, name, bases, class_dict):\n",
    "        print(f'in ValidatePolygon * Running {meta}.__new__ for {name}')\n",
    "        print(class_dict)\n",
    "        #Only validate non-root classes\n",
    "        if not class_dict.get('is_root'):\n",
    "            if class_dict['sides'] < 3:\n",
    "                raise ValueError('Polygons need 3+ sides')\n",
    "                \n",
    "        return type.__new__(meta, name, bases, class_dict)\n",
    "    \n",
    "    \n",
    "\"\"\"\n",
    "class Polygon(metaclass=ValidatePolygon):\n",
    "    is_root = True\n",
    "    sides = None # Must be specified by subclasses\"\"\"\n",
    "    \n",
    "class ValidateFilledPolygon(ValidatePolygon):\n",
    "    def __new__(meta, name, bases, class_dict):\n",
    "        print(f'in ValidateFilledPolygon * Running {meta}.__new__ for {name}')\n",
    "        #Only validate non-root classes\n",
    "        if not class_dict.get('is_root'):\n",
    "            if class_dict['color'] not in ('red', 'green'):\n",
    "                raise ValueError('Fill color must be supported')\n",
    "\n",
    "        return super().__new__(meta, name, bases, class_dict)\n",
    "\n",
    "class FilledPolygon( metaclass=ValidateFilledPolygon):\n",
    "    is_root = True\n",
    "    color = None\n",
    "    sides = None\n",
    "    \n",
    "class GreenPentagon(FilledPolygon):\n",
    "    color = 'green'\n",
    "    sides = 5"
   ]
  },
  {
   "cell_type": "code",
   "execution_count": 29,
   "id": "b29a3af4",
   "metadata": {},
   "outputs": [],
   "source": [
    "class Filled:\n",
    "    color = None\n",
    "    \n",
    "    def __init_subclass__(cls):\n",
    "        super().__init_subclass__()\n",
    "        if cls.color not in ('red', 'green', 'blue'):\n",
    "            raise ValueError('Fills need a valid color')\n",
    "            \n",
    "            \n",
    "#it can inherit form both classes to define a new class. Both\n",
    "#classes call super().__init_subclass__(), causing their \n",
    "#corresponding validation logic to run when the subclass is create\n",
    "\n",
    "class RedTriangle(Filled, BetterPolygon):\n",
    "    color = 'red'\n",
    "    sides = 3\n",
    "    \n",
    "    \n",
    "ruddy = RedTriangle()\n",
    "assert isinstance(ruddy, Filled)\n",
    "assert isinstance(ruddy, BetterPolygon)"
   ]
  },
  {
   "cell_type": "code",
   "execution_count": 30,
   "id": "d6e4e83d",
   "metadata": {},
   "outputs": [
    {
     "name": "stdout",
     "output_type": "stream",
     "text": [
      "Top for <class '__main__.Left'>\n",
      "Top for <class '__main__.Right'>\n",
      "Top for <class '__main__.Bottom'>\n",
      "Right for <class '__main__.Bottom'>\n",
      "Left for <class '__main__.Bottom'>\n"
     ]
    }
   ],
   "source": [
    "class Top:\n",
    "    def __init_subclass__(cls):\n",
    "        super().__init_subclass__()\n",
    "        print(f'Top for {cls}')\n",
    "        \n",
    "class Left(Top):\n",
    "    def __init_subclass__(cls):\n",
    "        super().__init_subclass__()\n",
    "        print(f'Left for {cls}')\n",
    "        \n",
    "class Right(Top):\n",
    "    def __init_subclass__(cls):\n",
    "        super().__init_subclass__()\n",
    "        print(f'Right for {cls}')\n",
    "        \n",
    "class Bottom(Left, Right):\n",
    "    def __init_subclass__(cls):\n",
    "        super().__init_subclass__()\n",
    "        print(f'Bottom for {cls}')"
   ]
  },
  {
   "cell_type": "code",
   "execution_count": null,
   "id": "e2cbeafb",
   "metadata": {},
   "outputs": [],
   "source": []
  }
 ],
 "metadata": {
  "kernelspec": {
   "display_name": "Python 3 (ipykernel)",
   "language": "python",
   "name": "python3"
  },
  "language_info": {
   "codemirror_mode": {
    "name": "ipython",
    "version": 3
   },
   "file_extension": ".py",
   "mimetype": "text/x-python",
   "name": "python",
   "nbconvert_exporter": "python",
   "pygments_lexer": "ipython3",
   "version": "3.10.4"
  }
 },
 "nbformat": 4,
 "nbformat_minor": 5
}
