{
 "cells": [
  {
   "cell_type": "markdown",
   "id": "037d4b88",
   "metadata": {},
   "source": [
    "The big problem with the @property built-in is reuse\n",
    "* the methods it decorates can't be reused for multiple attributes of same class\n",
    "* They also can't be reused by unrelated classes"
   ]
  },
  {
   "cell_type": "code",
   "execution_count": 2,
   "id": "c33bd5ea",
   "metadata": {},
   "outputs": [],
   "source": [
    "class Homework:\n",
    "    def __init__(self):\n",
    "        self._grade = 0\n",
    "    \n",
    "    @property\n",
    "    def grade(self):\n",
    "        return self._grade\n",
    "    \n",
    "    @grade.setter\n",
    "    def grade(self, value):\n",
    "        if not(0<= value <= 100):\n",
    "            raise ValueError(\n",
    "                'Grade must be between 0 and 100')\n",
    "        self._grade = value"
   ]
  },
  {
   "cell_type": "code",
   "execution_count": 3,
   "id": "d1ce7bc7",
   "metadata": {},
   "outputs": [],
   "source": [
    "galileo = Homework()\n",
    "galileo.grade = 95"
   ]
  },
  {
   "cell_type": "code",
   "execution_count": 5,
   "id": "cb9e1ab1",
   "metadata": {},
   "outputs": [],
   "source": [
    "class Exam:\n",
    "    def __init__(self):\n",
    "        self._writing_grade = 0\n",
    "        self._math_grade = 0\n",
    "    \n",
    "    @staticmethod\n",
    "    def _check_grade(value):\n",
    "        if not (0 <= value <= 100):\n",
    "            raise ValueError(\n",
    "                'Grade must be between 0 and 100')\n",
    "    \n",
    "    @property\n",
    "    def writing_grade(self):\n",
    "        return self._writing_grade\n",
    "    \n",
    "    @writing_grade.setter\n",
    "    def writing_grade(self, value):\n",
    "        self._checkk_grade(value)\n",
    "        self._writing_grade = value\n",
    "        \n",
    "    @property\n",
    "    def math_grade(self):\n",
    "        return self._math_grade\n",
    "    \n",
    "    @math_grade.setter\n",
    "    def math_grade(self, value):\n",
    "        self._check_grade(value)\n",
    "        self._math_grade = value"
   ]
  },
  {
   "cell_type": "code",
   "execution_count": 6,
   "id": "f74bc58a",
   "metadata": {},
   "outputs": [],
   "source": [
    "#the better way to do this in Python is to use a descriptor\n",
    "class Grade:\n",
    "    def __get__(self, instance, instance_type):\n",
    "        pass\n",
    "    \n",
    "    def __set__(self, instance, value):\n",
    "        pass\n",
    "    \n",
    "\n",
    "class Exam:\n",
    "    #class attributes\n",
    "    math_grade = Grade()\n",
    "    writing_grade = Grade()\n",
    "    science_grade = Grade()"
   ]
  },
  {
   "cell_type": "code",
   "execution_count": 7,
   "id": "dcbd60fa",
   "metadata": {},
   "outputs": [],
   "source": [
    "exam1 = Exam()\n",
    "exam1.writing_grade = 40\n",
    "# same as\n",
    "#Exam.__dict__['writing_grade'].__set__(exam1, 40)\n",
    "\n",
    "#when i retrieve a property\n",
    "exam1.writing_grade\n",
    "#same as\n",
    "# Exam.__dict__['writing_grade'].__get__(exam1, Exam)"
   ]
  },
  {
   "cell_type": "code",
   "execution_count": 8,
   "id": "29120e0c",
   "metadata": {},
   "outputs": [
    {
     "name": "stdout",
     "output_type": "stream",
     "text": [
      "Writing 82\n",
      "Science 99\n"
     ]
    }
   ],
   "source": [
    "#implementing the Grade descriptor\n",
    "class Grade:\n",
    "    def __init__(self):\n",
    "        self._value = 0\n",
    "    \n",
    "    def __get__(self, instance, instance_type):\n",
    "        return self._value\n",
    "    \n",
    "    def __set__(self, instance, value):\n",
    "        if not (0 <= value <= 100):\n",
    "            raise ValueError(\n",
    "                'Grade must be between 0 and 100')\n",
    "        self._value = value\n",
    "        \n",
    "\n",
    "class Exam:\n",
    "    math_grade = Grade()\n",
    "    writing_grade = Grade()\n",
    "    science_grade = Grade()\n",
    "    \n",
    "first_exam = Exam()\n",
    "first_exam.writing_grade = 82\n",
    "first_exam.science_grade = 99\n",
    "print('Writing', first_exam.writing_grade)\n",
    "print('Science', first_exam.science_grade)"
   ]
  },
  {
   "cell_type": "code",
   "execution_count": 10,
   "id": "d953ecde",
   "metadata": {},
   "outputs": [
    {
     "name": "stdout",
     "output_type": "stream",
     "text": [
      "Second 75 is right\n",
      "First  75 is wrong; should be 82\n"
     ]
    }
   ],
   "source": [
    "#but accessing these attrubutes on mulriple Exam instances causes unexpected behavior\n",
    "second_exam = Exam()\n",
    "second_exam.writing_grade = 75\n",
    "print(f'Second {second_exam.writing_grade} is right')\n",
    "print(f'First  {first_exam.writing_grade} is wrong; '\n",
    "      f'should be 82')\n"
   ]
  },
  {
   "cell_type": "markdown",
   "id": "5d1604bc",
   "metadata": {},
   "source": [
    "The problem is that a single Grade instance is shared across all Exam instances for the class attribute writing_grade\n",
    "\n",
    "* Grade instance for this attribute is constructed once in the program lifetime, when the Exam class is first defined, not each time an Exam instance is created"
   ]
  },
  {
   "cell_type": "code",
   "execution_count": 11,
   "id": "9b8720f2",
   "metadata": {},
   "outputs": [],
   "source": [
    "#this works well, but it leaks memroy\n",
    "class Grade:\n",
    "    def __init__(self):\n",
    "        self._value = {}\n",
    "    \n",
    "    def __get__(self, instance, instance_type):\n",
    "        if instance is None:\n",
    "            return self\n",
    "        return self._value.get(instance, 0)\n",
    "    \n",
    "    def __set__(self, instance, value):\n",
    "        if not (0 <= value <= 100):\n",
    "            raise ValueError(\n",
    "                'Grade must be between 0 and 100')\n",
    "        self._value[instance] = value\n",
    "        \n"
   ]
  },
  {
   "cell_type": "code",
   "execution_count": 12,
   "id": "1e167e99",
   "metadata": {},
   "outputs": [],
   "source": [
    "from weakref import WeakKeyDictionary\n",
    "\n",
    "class Grade:\n",
    "    def __init__(self):\n",
    "        self._value = WeakKeyDictionary()\n",
    "    \n",
    "    def __get__(self, instance, instance_type):\n",
    "        if instance is None:\n",
    "            return self\n",
    "        return self._value.get(instance, 0)\n",
    "    \n",
    "    def __set__(self, instance, value):\n",
    "        if not (0 <= value <= 100):\n",
    "            raise ValueError(\n",
    "                'Grade must be between 0 and 100')\n",
    "        self._value[instance] = value"
   ]
  },
  {
   "cell_type": "code",
   "execution_count": 15,
   "id": "e65c8aa9",
   "metadata": {},
   "outputs": [
    {
     "name": "stdout",
     "output_type": "stream",
     "text": [
      "Second 75 is right\n",
      "First  82 is right\n"
     ]
    }
   ],
   "source": [
    "class Exam:\n",
    "    math_grade = Grade()\n",
    "    writing_grade = Grade()\n",
    "    science_grade = Grade()\n",
    "    \n",
    "    \n",
    "first_exam = Exam()\n",
    "first_exam.writing_grade = 82\n",
    "second_exam = Exam()\n",
    "second_exam.writing_grade = 75\n",
    "print(f'Second {second_exam.writing_grade} is right')\n",
    "print(f'First  {first_exam.writing_grade} is right')\n"
   ]
  },
  {
   "cell_type": "code",
   "execution_count": null,
   "id": "6c90357f",
   "metadata": {},
   "outputs": [],
   "source": []
  }
 ],
 "metadata": {
  "kernelspec": {
   "display_name": "Python 3 (ipykernel)",
   "language": "python",
   "name": "python3"
  },
  "language_info": {
   "codemirror_mode": {
    "name": "ipython",
    "version": 3
   },
   "file_extension": ".py",
   "mimetype": "text/x-python",
   "name": "python",
   "nbconvert_exporter": "python",
   "pygments_lexer": "ipython3",
   "version": "3.10.4"
  }
 },
 "nbformat": 4,
 "nbformat_minor": 5
}
