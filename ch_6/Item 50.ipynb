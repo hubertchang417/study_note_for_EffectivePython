{
 "cells": [
  {
   "cell_type": "code",
   "execution_count": 20,
   "id": "66ac1588",
   "metadata": {},
   "outputs": [],
   "source": [
    "class Field:\n",
    "    def __init__(self, name):\n",
    "        self.name = name\n",
    "        self.internal_name = '_' + self.name\n",
    "        \n",
    "    def __get__(self, instance, instance_type):\n",
    "        if instance is None:\n",
    "            print(f'{instance} is None')\n",
    "            return self\n",
    "        return getattr(instance, self.internal_name, 'haha')\n",
    "    \n",
    "    def __set__(self, instance, value):\n",
    "        setattr(instance, self.internal_name, value)\n",
    "        \n",
    "        \n",
    "class Customer:\n",
    "    # Class attributes\n",
    "    first_name = Field('first_name')\n",
    "    last_name = Field('last_name')\n",
    "    prefix = Field('prefix')\n",
    "    suffix = Field('suffix')"
   ]
  },
  {
   "cell_type": "code",
   "execution_count": 21,
   "id": "0d32f127",
   "metadata": {},
   "outputs": [
    {
     "name": "stdout",
     "output_type": "stream",
     "text": [
      "Before: 'haha' {}\n"
     ]
    }
   ],
   "source": [
    "cust = Customer()\n",
    "print(f'Before: {cust.first_name!r} {cust.__dict__}')"
   ]
  },
  {
   "cell_type": "code",
   "execution_count": 22,
   "id": "e18fd596",
   "metadata": {},
   "outputs": [
    {
     "name": "stdout",
     "output_type": "stream",
     "text": [
      "After: 'Euclid' {'_first_name': 'Euclid'}\n"
     ]
    }
   ],
   "source": [
    "cust.first_name = 'Euclid'\n",
    "print(f'After: {cust.first_name!r} {cust.__dict__}')"
   ]
  },
  {
   "cell_type": "markdown",
   "id": "7b39e10a",
   "metadata": {},
   "source": [
    "The problem is that the order of operations in the Custormer class defintion is opposite of how it reads form left to right.\n",
    "\n",
    "1. the Field constructor is called as Field('first_name')\n",
    "2. the return value of that is assigned to Customer.field_name.\n",
    "\n",
    "There is no way for a Field instance to knoe upfront which class attribute it will be assigned to"
   ]
  },
  {
   "cell_type": "code",
   "execution_count": 23,
   "id": "722c712b",
   "metadata": {},
   "outputs": [
    {
     "name": "stdout",
     "output_type": "stream",
     "text": [
      "my key: __module__ , my value: __main__\n",
      "my key: __qualname__ , my value: DatabaseRow\n"
     ]
    }
   ],
   "source": [
    "class Meta(type):\n",
    "    def __new__(meta, name, bases, class_dict):\n",
    "        for key, value in class_dict.items():\n",
    "            print('my key:',key,', my value:',value)\n",
    "            if isinstance(value, Field):\n",
    "                value.name = key\n",
    "                value.internal_name = '_' + key\n",
    "        cls = type.__new__(meta, name, bases, class_dict)\n",
    "        return cls\n",
    "\n",
    "class DatabaseRow(metaclass=Meta):\n",
    "    pass"
   ]
  },
  {
   "cell_type": "code",
   "execution_count": 24,
   "id": "dc70fcae",
   "metadata": {},
   "outputs": [
    {
     "name": "stdout",
     "output_type": "stream",
     "text": [
      "my key: __module__ , my value: __main__\n",
      "my key: __qualname__ , my value: BetterCustomer\n",
      "my key: first_name , my value: <__main__.Field object at 0x0000017A03A75E70>\n",
      "my key: last_name , my value: <__main__.Field object at 0x0000017A03A762C0>\n",
      "my key: prefix , my value: <__main__.Field object at 0x0000017A03A76770>\n",
      "my key: suffix , my value: <__main__.Field object at 0x0000017A03A77F40>\n"
     ]
    }
   ],
   "source": [
    "class Field:\n",
    "    def __init__(self):\n",
    "        # These will be assigned by the metaclass.\n",
    "        self.name = None\n",
    "        self.internal_name = None\n",
    "        \n",
    "    def __get__(self, instance, instance_type):\n",
    "        if instance is None:\n",
    "            return self\n",
    "        return getattr(instance, self.internal_name, '')\n",
    "    \n",
    "    def __set__(self, instance, value):\n",
    "        setattr(instance, self.internal_name, value)\n",
    "        \n",
    "        \n",
    "class BetterCustomer(DatabaseRow):\n",
    "    first_name = Field()\n",
    "    last_name = Field()\n",
    "    prefix = Field()\n",
    "    suffix = Field()"
   ]
  },
  {
   "cell_type": "code",
   "execution_count": 25,
   "id": "b1d9957f",
   "metadata": {},
   "outputs": [
    {
     "name": "stdout",
     "output_type": "stream",
     "text": [
      "Before: '' {}\n",
      "After: 'Euler' {'_first_name': 'Euler'}\n"
     ]
    }
   ],
   "source": [
    "cust = BetterCustomer()\n",
    "print(f'Before: {cust.first_name!r} {cust.__dict__}')\n",
    "cust.first_name = 'Euler'\n",
    "print(f'After: {cust.first_name!r} {cust.__dict__}')"
   ]
  },
  {
   "cell_type": "code",
   "execution_count": 14,
   "id": "69370db3",
   "metadata": {},
   "outputs": [
    {
     "ename": "TypeError",
     "evalue": "attribute name must be string, not 'NoneType'",
     "output_type": "error",
     "traceback": [
      "\u001b[1;31m---------------------------------------------------------------------------\u001b[0m",
      "\u001b[1;31mTypeError\u001b[0m                                 Traceback (most recent call last)",
      "Cell \u001b[1;32mIn[14], line 8\u001b[0m\n\u001b[0;32m      5\u001b[0m     suffix \u001b[38;5;241m=\u001b[39m Field()\n\u001b[0;32m      7\u001b[0m cust \u001b[38;5;241m=\u001b[39m BrokenCustomer()\n\u001b[1;32m----> 8\u001b[0m cust\u001b[38;5;241m.\u001b[39mfirst_name \u001b[38;5;241m=\u001b[39m \u001b[38;5;124m'\u001b[39m\u001b[38;5;124mMersenne\u001b[39m\u001b[38;5;124m'\u001b[39m\n",
      "Cell \u001b[1;32mIn[12], line 13\u001b[0m, in \u001b[0;36mField.__set__\u001b[1;34m(self, instance, value)\u001b[0m\n\u001b[0;32m     12\u001b[0m \u001b[38;5;28;01mdef\u001b[39;00m \u001b[38;5;21m__set__\u001b[39m(\u001b[38;5;28mself\u001b[39m, instance, value):\n\u001b[1;32m---> 13\u001b[0m     \u001b[38;5;28;43msetattr\u001b[39;49m\u001b[43m(\u001b[49m\u001b[43minstance\u001b[49m\u001b[43m,\u001b[49m\u001b[43m \u001b[49m\u001b[38;5;28;43mself\u001b[39;49m\u001b[38;5;241;43m.\u001b[39;49m\u001b[43minternal_name\u001b[49m\u001b[43m,\u001b[49m\u001b[43m \u001b[49m\u001b[43mvalue\u001b[49m\u001b[43m)\u001b[49m\n",
      "\u001b[1;31mTypeError\u001b[0m: attribute name must be string, not 'NoneType'"
     ]
    }
   ],
   "source": [
    "class BrokenCustomer:\n",
    "    first_name = Field()\n",
    "    last_name = Field()\n",
    "    prefix = Field()\n",
    "    suffix = Field()\n",
    "    \n",
    "cust = BrokenCustomer()\n",
    "cust.first_name = 'Mersenne'"
   ]
  },
  {
   "cell_type": "markdown",
   "id": "62316490",
   "metadata": {},
   "source": [
    "The solution to this problem is to use the \\_\\_set\\_name\\_\\_ special method for descriptors.\n",
    "\n",
    "* This method is called on every descriptors instance when its containing class is defined"
   ]
  },
  {
   "cell_type": "code",
   "execution_count": 32,
   "id": "2ad6ce61",
   "metadata": {},
   "outputs": [
    {
     "name": "stdout",
     "output_type": "stream",
     "text": [
      "first_name fin\n",
      "suffix fin\n",
      "call\n",
      "call\n",
      "call\n",
      "call\n"
     ]
    }
   ],
   "source": [
    "class Field:\n",
    "    def __init__(self):\n",
    "        self.name = None\n",
    "        self.internal_name = None\n",
    "        \n",
    "    def __set_name__(self, owner, name):\n",
    "        #called on class creation for each descriptor\n",
    "        print('call')\n",
    "        self.name = name\n",
    "        self.internal_name = '_' + name\n",
    "         \n",
    "    def __get__(self, instance, instance_type):\n",
    "        if instance is None:\n",
    "            return self\n",
    "        return getattr(instance, self.internal_name, '')\n",
    "    \n",
    "    def __set__(self, instance, value):\n",
    "        setattr(instance, self.internal_name, value)\n",
    "        \n",
    "        \n",
    "class FixedCustomer:\n",
    "    first_name = Field()\n",
    "    print('first_name fin')\n",
    "    last_name = Field()\n",
    "    prefix = Field()\n",
    "    suffix = Field()\n",
    "    print('suffix fin')"
   ]
  },
  {
   "cell_type": "code",
   "execution_count": 27,
   "id": "32c13f90",
   "metadata": {},
   "outputs": [
    {
     "name": "stdout",
     "output_type": "stream",
     "text": [
      "Before: '' {}\n",
      "After: 'Mersenne' {'_first_name': 'Mersenne'}\n"
     ]
    }
   ],
   "source": [
    "cust = FixedCustomer()\n",
    "print(f'Before: {cust.first_name!r} {cust.__dict__}')\n",
    "cust.first_name = 'Mersenne'\n",
    "print(f'After: {cust.first_name!r} {cust.__dict__}')"
   ]
  },
  {
   "cell_type": "code",
   "execution_count": 34,
   "id": "f2fafee8",
   "metadata": {},
   "outputs": [
    {
     "name": "stdout",
     "output_type": "stream",
     "text": [
      "Before: '' {}\n",
      "After: 'Mersenne111' {'_first_name': 'Mersenne111'}\n"
     ]
    }
   ],
   "source": [
    "cust1 = FixedCustomer()\n",
    "print(f'Before: {cust1.first_name!r} {cust1.__dict__}')\n",
    "cust1.first_name = 'Mersenne111'\n",
    "print(f'After: {cust1.first_name!r} {cust1.__dict__}')"
   ]
  },
  {
   "cell_type": "code",
   "execution_count": null,
   "id": "566c45bb",
   "metadata": {},
   "outputs": [],
   "source": []
  }
 ],
 "metadata": {
  "kernelspec": {
   "display_name": "Python 3 (ipykernel)",
   "language": "python",
   "name": "python3"
  },
  "language_info": {
   "codemirror_mode": {
    "name": "ipython",
    "version": 3
   },
   "file_extension": ".py",
   "mimetype": "text/x-python",
   "name": "python",
   "nbconvert_exporter": "python",
   "pygments_lexer": "ipython3",
   "version": "3.10.4"
  }
 },
 "nbformat": 4,
 "nbformat_minor": 5
}
