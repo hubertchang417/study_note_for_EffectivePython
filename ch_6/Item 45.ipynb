{
 "cells": [
  {
   "cell_type": "code",
   "execution_count": 4,
   "id": "5d07ba51",
   "metadata": {},
   "outputs": [],
   "source": [
    "from datetime import datetime, timedelta\n",
    "\n",
    "class Bucket:\n",
    "    def __init__(self, period):\n",
    "        self.period_delta = timedelta(seconds=period)\n",
    "        self.reset_time = datetime.now()\n",
    "        self.quota = 0\n",
    "    \n",
    "    def __repr__(self):\n",
    "        return f'Bucket(quota={self.quota})'\n",
    "    \n",
    "\n",
    "def fill(bucket, amount):\n",
    "    now = datetime.now()\n",
    "    if (now - bucket.reset_time) > bucket.period_delta:\n",
    "        bucket.quota = 0\n",
    "        bucket.reset_time = now\n",
    "    bucket.quota += amount\n",
    "    \n",
    "def deduct(bucket, amount):\n",
    "    now = datetime.now()\n",
    "    if (now - bucket.reset_time) > bucket.period_delta:\n",
    "        return False  # bucket hasn't been filled this period\n",
    "    if bucket.quota - amount < 0:\n",
    "        return False  # Bucket was filled, but not enough\n",
    "    bucket.quota -= amount\n",
    "    return True       # Bucket had enough, quota consumed"
   ]
  },
  {
   "cell_type": "code",
   "execution_count": 5,
   "id": "99b19e68",
   "metadata": {},
   "outputs": [
    {
     "name": "stdout",
     "output_type": "stream",
     "text": [
      "Bucket(quota=100)\n"
     ]
    }
   ],
   "source": [
    "bucket = Bucket(60)\n",
    "fill(bucket, 100)\n",
    "print(bucket)"
   ]
  },
  {
   "cell_type": "code",
   "execution_count": 6,
   "id": "5190a939",
   "metadata": {},
   "outputs": [
    {
     "name": "stdout",
     "output_type": "stream",
     "text": [
      "Had 99 quota\n",
      "Bucket(quota=1)\n"
     ]
    }
   ],
   "source": [
    "if deduct(bucket, 99):\n",
    "    print('Had 99 quota')\n",
    "else:\n",
    "    print('Not enough for 99 quota')\n",
    "print(bucket)"
   ]
  },
  {
   "cell_type": "code",
   "execution_count": 7,
   "id": "96ba9623",
   "metadata": {},
   "outputs": [
    {
     "name": "stdout",
     "output_type": "stream",
     "text": [
      "Not enough for 3 quota\n",
      "Bucket(quota=1)\n"
     ]
    }
   ],
   "source": [
    "if deduct(bucket, 3):\n",
    "    print('Had 3 quota')\n",
    "else:\n",
    "    print('Not enough for 3 quota')\n",
    "print(bucket)"
   ]
  },
  {
   "cell_type": "code",
   "execution_count": 8,
   "id": "a26e83c6",
   "metadata": {},
   "outputs": [],
   "source": [
    "class NewBucket:\n",
    "    def __init__(self, period):\n",
    "        self.period_delta = timedelta(seconds=period)\n",
    "        self.reset_time = datetime.now()\n",
    "        self.max_quota = 0\n",
    "        self.quota_consumed = 0\n",
    "        \n",
    "    def __repr__(self):\n",
    "        return (f'NewBucket(max_quota={self.max_quota}),'\n",
    "                f'quota_consumed={self.quota_consumed}')\n",
    "    \n",
    "    @property\n",
    "    def quota(self):\n",
    "        return self.max_quota - self.quota_consumed\n",
    "    \n",
    "    @quota.setter\n",
    "    def quota(self, amount):\n",
    "        delta = self.max_quota - amount\n",
    "        if amount == 0:\n",
    "            # Quota being reset for a new period\n",
    "            self.quota_consumed = 0\n",
    "            self.max_quota = 0\n",
    "        elif delta < 0:\n",
    "            # Quota being filled for the period\n",
    "            assert self.quota_consumed ==0\n",
    "            self.max_quota = amount\n",
    "        else:\n",
    "            # Quota being consumed during the period\n",
    "            assert self.max_quota >= self.quota_consumed\n",
    "            self.quota_consumed += delta\n"
   ]
  },
  {
   "cell_type": "code",
   "execution_count": 9,
   "id": "aca6db14",
   "metadata": {},
   "outputs": [
    {
     "name": "stdout",
     "output_type": "stream",
     "text": [
      "Initial NewBucket(max_quota=0),quota_consumed=0\n",
      "Filled NewBucket(max_quota=100),quota_consumed=0\n",
      "Had 99 quota\n",
      "Now NewBucket(max_quota=100),quota_consumed=99\n",
      "Not enough for 3 quota\n",
      "Still NewBucket(max_quota=100),quota_consumed=99\n"
     ]
    }
   ],
   "source": [
    "bucket = NewBucket(60)\n",
    "print('Initial', bucket)\n",
    "fill(bucket, 100)\n",
    "print('Filled', bucket)\n",
    "\n",
    "if deduct(bucket, 99):\n",
    "    print('Had 99 quota')\n",
    "else:\n",
    "    print('Not enough for 99 quota')\n",
    "print('Now', bucket)\n",
    "\n",
    "if deduct(bucket, 3):\n",
    "    print('Had 3 quota')\n",
    "else:\n",
    "    print('Not enough for 3 quota')\n",
    "print('Still', bucket)"
   ]
  },
  {
   "cell_type": "markdown",
   "id": "422d27ff",
   "metadata": {},
   "source": []
  }
 ],
 "metadata": {
  "kernelspec": {
   "display_name": "Python 3 (ipykernel)",
   "language": "python",
   "name": "python3"
  },
  "language_info": {
   "codemirror_mode": {
    "name": "ipython",
    "version": 3
   },
   "file_extension": ".py",
   "mimetype": "text/x-python",
   "name": "python",
   "nbconvert_exporter": "python",
   "pygments_lexer": "ipython3",
   "version": "3.10.4"
  }
 },
 "nbformat": 4,
 "nbformat_minor": 5
}
