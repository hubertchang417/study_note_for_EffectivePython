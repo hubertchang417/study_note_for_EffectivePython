{
 "cells": [
  {
   "cell_type": "markdown",
   "id": "e84c204d",
   "metadata": {},
   "source": [
    "If a class define getattr, that method is called every time an attribute can't be found in an object's instance dictioary"
   ]
  },
  {
   "cell_type": "code",
   "execution_count": 1,
   "id": "8038c0a5",
   "metadata": {},
   "outputs": [],
   "source": [
    "class LazyRecord:\n",
    "    def __init__(self):\n",
    "        self.exists = 5\n",
    "        \n",
    "    def __getattr__(self, name):\n",
    "        value = f'Value for {name}'\n",
    "        setattr(self, name, value)\n",
    "        return value"
   ]
  },
  {
   "cell_type": "code",
   "execution_count": 2,
   "id": "302afbe1",
   "metadata": {},
   "outputs": [
    {
     "name": "stdout",
     "output_type": "stream",
     "text": [
      "Before: {'exists': 5}\n",
      "foo:    Value for foo\n",
      "After:  {'exists': 5, 'foo': 'Value for foo'}\n"
     ]
    }
   ],
   "source": [
    "data = LazyRecord()\n",
    "print('Before:', data.__dict__)\n",
    "print('foo:   ', data.foo)\n",
    "print('After: ',data.__dict__)"
   ]
  },
  {
   "cell_type": "code",
   "execution_count": 3,
   "id": "67949dba",
   "metadata": {},
   "outputs": [
    {
     "name": "stdout",
     "output_type": "stream",
     "text": [
      "exists:      5\n",
      "* Called __getattr__('foo'), populating instance dictionary\n",
      "* Returning 'Value for foo'\n",
      "First foo:   Value for foo\n",
      "Second foo:  Value for foo\n"
     ]
    }
   ],
   "source": [
    "class LoggingLazyRecord(LazyRecord):\n",
    "    def __getattr__(self, name):\n",
    "        print(f'* Called __getattr__({name!r}), '\n",
    "              f'populating instance dictionary')\n",
    "        result = super().__getattr__(name)\n",
    "        print(f'* Returning {result!r}')\n",
    "        return result\n",
    "    \n",
    "data = LoggingLazyRecord()\n",
    "print('exists:     ', data.exists)\n",
    "print('First foo:  ', data.foo)\n",
    "print('Second foo: ', data.foo)"
   ]
  },
  {
   "cell_type": "code",
   "execution_count": 4,
   "id": "2e746499",
   "metadata": {},
   "outputs": [
    {
     "name": "stdout",
     "output_type": "stream",
     "text": [
      "* Called __getattribute__('exists')\n",
      "* Found 'exists', returning 5\n",
      "exists:      5\n",
      "* Called __getattribute__('foo')\n",
      "* Setting 'foo' to 'Value for foo'\n",
      "First foo:   Value for foo\n",
      "* Called __getattribute__('foo')\n",
      "* Found 'foo', returning 'Value for foo'\n",
      "Second foo:  Value for foo\n"
     ]
    }
   ],
   "source": [
    "class ValidatingRecord:\n",
    "    def __init__(self):\n",
    "        self.exists = 5\n",
    "    \n",
    "    def __getattribute__(self, name):\n",
    "        print(f'* Called __getattribute__({name!r})')\n",
    "        try:\n",
    "            value = super().__getattribute__(name)\n",
    "            print(f'* Found {name!r}, returning {value!r}')\n",
    "            return value\n",
    "        except AttributeError:\n",
    "            value = f'Value for {name}'\n",
    "            print(f'* Setting {name!r} to {value!r}')\n",
    "            setattr(self, name, value)\n",
    "            return value\n",
    "        \n",
    "\n",
    "data = ValidatingRecord()\n",
    "print('exists:     ', data.exists)\n",
    "print('First foo:  ', data.foo)\n",
    "print('Second foo: ', data.foo)        "
   ]
  },
  {
   "cell_type": "code",
   "execution_count": 5,
   "id": "dd7ebd43",
   "metadata": {},
   "outputs": [
    {
     "ename": "AttributeError",
     "evalue": "'MissingPropertyRecord' object has no attribute 'bad_name'",
     "output_type": "error",
     "traceback": [
      "\u001b[1;31m---------------------------------------------------------------------------\u001b[0m",
      "\u001b[1;31mAttributeError\u001b[0m                            Traceback (most recent call last)",
      "Cell \u001b[1;32mIn[5], line 11\u001b[0m\n\u001b[0;32m      8\u001b[0m         \u001b[38;5;28;01mpass\u001b[39;00m\n\u001b[0;32m     10\u001b[0m data \u001b[38;5;241m=\u001b[39m MissingPropertyRecord()\n\u001b[1;32m---> 11\u001b[0m \u001b[43mdata\u001b[49m\u001b[38;5;241;43m.\u001b[39;49m\u001b[43mbad_name\u001b[49m\n",
      "\u001b[1;31mAttributeError\u001b[0m: 'MissingPropertyRecord' object has no attribute 'bad_name'"
     ]
    }
   ],
   "source": [
    "#In the event that a dynamically accessed property shouldn't exist, \n",
    "#I can raise an AttributeError to cause Python standard missing\n",
    "\n",
    "class MissingPropertyRecord:\n",
    "    def __getattr_(self, name):\n",
    "        if name == 'bad_name':\n",
    "            raise AttributeError(f'{name} is missing')\n",
    "        pass\n",
    "    \n",
    "data = MissingPropertyRecord()\n",
    "data.bad_name"
   ]
  },
  {
   "cell_type": "code",
   "execution_count": 6,
   "id": "2f015ae6",
   "metadata": {},
   "outputs": [
    {
     "name": "stdout",
     "output_type": "stream",
     "text": [
      "Before:          {'exists': 5}\n",
      "* Called __getattr__('foo'), populating instance dictionary\n",
      "* Returning 'Value for foo'\n",
      "Has first foo:   True\n",
      "After:           {'exists': 5, 'foo': 'Value for foo'}\n",
      "Has second foo:  True\n"
     ]
    }
   ],
   "source": [
    "#rely on the hasattr built-in function to determine when property exist\n",
    "#hasattr call after __getattr__\n",
    "\n",
    "data = LoggingLazyRecord()\n",
    "print('Before:         ', data.__dict__)\n",
    "print('Has first foo:  ', hasattr(data, 'foo'))\n",
    "print('After:          ', data.__dict__)\n",
    "print('Has second foo: ', hasattr(data, 'foo'))"
   ]
  },
  {
   "cell_type": "code",
   "execution_count": 7,
   "id": "785980c0",
   "metadata": {},
   "outputs": [
    {
     "name": "stdout",
     "output_type": "stream",
     "text": [
      "* Called __getattribute__('foo')\n",
      "* Setting 'foo' to 'Value for foo'\n",
      "Has first foo:   True\n",
      "* Called __getattribute__('foo')\n",
      "* Found 'foo', returning 'Value for foo'\n",
      "Has second foo:  True\n"
     ]
    }
   ],
   "source": [
    "#__getattr__ call only once(when attr not exist)\n",
    "#__getattribute__ call everytime when the attr been called\n",
    "\n",
    "data = ValidatingRecord() # Implements __getattribute__\n",
    "print('Has first foo:  ', hasattr(data, 'foo'))\n",
    "print('Has second foo: ', hasattr(data, 'foo'))"
   ]
  },
  {
   "cell_type": "code",
   "execution_count": 8,
   "id": "3a9fd67b",
   "metadata": {},
   "outputs": [],
   "source": [
    "#the __setattr__ method is always called every time na attribute is assigned on an instance(\n",
    "#either directly or through the setattr built-in function)\n",
    "\n",
    "class SavingRecord:\n",
    "    def __setattr__(self, name, value):\n",
    "        # Save some data for the record\n",
    " \n",
    "        super().__setattr__(name, value)\n",
    "        \n",
    "class LoggingSavingRecord(SavingRecord):\n",
    "    def __setattr__(self, name, value):\n",
    "        print(f'* Called __setattr__({name!r}, {value!r})')\n",
    "        super().__setattr__(name, value)"
   ]
  },
  {
   "cell_type": "code",
   "execution_count": 9,
   "id": "01349a22",
   "metadata": {},
   "outputs": [
    {
     "name": "stdout",
     "output_type": "stream",
     "text": [
      "Before:  {}\n",
      "* Called __setattr__('foo', 5)\n",
      "After:   {'foo': 5}\n",
      "* Called __setattr__('foo', 7)\n",
      "Finally: {'foo': 7}\n"
     ]
    }
   ],
   "source": [
    "data = LoggingSavingRecord()\n",
    "print('Before: ', data.__dict__)\n",
    "data.foo = 5\n",
    "print('After:  ', data.__dict__)\n",
    "data.foo = 7\n",
    "print('Finally:', data.__dict__)"
   ]
  },
  {
   "cell_type": "code",
   "execution_count": null,
   "id": "d7632269",
   "metadata": {},
   "outputs": [],
   "source": [
    "class BrokenDictionaryRecord:\n",
    "    def __init__(self, data):\n",
    "        self._data = data\n",
    "    \n",
    "    def __getattribute__(self, name):\n",
    "        print(f'* Called __getattribute__({{name!r}})')\n",
    "        return self._data[name]\n",
    "    \n",
    "data = BrokenDictionaryRecord({'foo': 3})\n",
    "data.foo"
   ]
  },
  {
   "cell_type": "code",
   "execution_count": 2,
   "id": "d0af5845",
   "metadata": {},
   "outputs": [
    {
     "name": "stdout",
     "output_type": "stream",
     "text": [
      "* Called __getattribute__({name!r})\n",
      "foo:  3\n"
     ]
    }
   ],
   "source": [
    "#The solution to recurse is to use the super().__getattribute__ to fetch value form\n",
    "#the instance attribute dictionary\n",
    "class DictionaryRecord:\n",
    "    def __init__(self, data):\n",
    "        self._data = data\n",
    "    \n",
    "    def __getattribute__(self, name):\n",
    "        print(f'* Called __getattribute__({{name!r}})')\n",
    "        data_dict = super().__getattribute__('_data')\n",
    "        return data_dict[name]\n",
    "    \n",
    "data = DictionaryRecord({'foo': 3})\n",
    "print('foo: ', data.foo)"
   ]
  },
  {
   "cell_type": "code",
   "execution_count": null,
   "id": "fa1fa510",
   "metadata": {},
   "outputs": [],
   "source": []
  }
 ],
 "metadata": {
  "kernelspec": {
   "display_name": "Python 3 (ipykernel)",
   "language": "python",
   "name": "python3"
  },
  "language_info": {
   "codemirror_mode": {
    "name": "ipython",
    "version": 3
   },
   "file_extension": ".py",
   "mimetype": "text/x-python",
   "name": "python",
   "nbconvert_exporter": "python",
   "pygments_lexer": "ipython3",
   "version": "3.10.4"
  }
 },
 "nbformat": 4,
 "nbformat_minor": 5
}
